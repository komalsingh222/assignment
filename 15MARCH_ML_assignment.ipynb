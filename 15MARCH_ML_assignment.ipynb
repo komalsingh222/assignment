{
  "metadata": {
    "kernelspec": {
      "name": "python",
      "display_name": "Python (Pyodide)",
      "language": "python"
    },
    "language_info": {
      "codemirror_mode": {
        "name": "python",
        "version": 3
      },
      "file_extension": ".py",
      "mimetype": "text/x-python",
      "name": "python",
      "nbconvert_exporter": "python",
      "pygments_lexer": "ipython3",
      "version": "3.8"
    },
    "colab": {
      "provenance": []
    }
  },
  "nbformat_minor": 0,
  "nbformat": 4,
  "cells": [
    {
      "cell_type": "markdown",
      "source": [
        "Q1: Explain the following with an example:"
      ],
      "metadata": {
        "id": "9OHqtCN1Pa5H"
      }
    },
    {
      "cell_type": "markdown",
      "source": [
        "1) Artificial Intelligence\n",
        "2) Machine Learning\n",
        "3) Deep Learning"
      ],
      "metadata": {
        "id": "WFsOlDgfPa5P"
      }
    },
    {
      "cell_type": "markdown",
      "source": [
        "ANS-Artificial Intelligence is a method of making a computer, a computer-controlled robot, or a software think intelligently like the human mind.\n",
        "eg:-Self driving car, Robot, Alexa."
      ],
      "metadata": {
        "id": "Tuw1kt5FPa5Q"
      }
    },
    {
      "cell_type": "markdown",
      "source": [
        "Machine Learning:- Its provide statstool to analyze visualize predictive models, forcasting. eg:- amozon.in , Netflix."
      ],
      "metadata": {
        "id": "8-AMcNZdPa5Q"
      }
    },
    {
      "cell_type": "markdown",
      "source": [
        "Deep learning models can recognize complex patterns in pictures, text, sounds, and other data to produce accurate insights and prediction\n",
        "eg:-Object detection,image recognition,CHATBOTS,Recommendation system"
      ],
      "metadata": {
        "id": "HNKfw4AlPa5R"
      }
    },
    {
      "cell_type": "markdown",
      "source": [
        "Q2: What is supervised learning? List some examples of supervised learning."
      ],
      "metadata": {
        "id": "x4QjXhxCPa5R"
      }
    },
    {
      "cell_type": "markdown",
      "source": [
        "ANS-Supervised learning is a category of machine learning that uses labeled datasets to train algorithms to predict outcomes and recognize patterns."
      ],
      "metadata": {
        "id": "l6Jqi8S4Pa5S"
      }
    },
    {
      "cell_type": "markdown",
      "source": [
        "eg:- spam detection , image classification, house price predeection"
      ],
      "metadata": {
        "id": "n3MdJKYpPa5S"
      }
    },
    {
      "cell_type": "markdown",
      "source": [
        "Q3: What is unsupervised learning? List some examples of unsupervised learning."
      ],
      "metadata": {
        "id": "WgCEeyAIPa5T"
      }
    },
    {
      "cell_type": "markdown",
      "source": [
        "ANS-. An unsupervised learning algorithm will go through the data and identify patterns in the data points. For instance, it might group data by temperature or similar weather patterns.\n",
        "eg:-Customer Segmentation,Image Segmentation,Anomaly Detection"
      ],
      "metadata": {
        "id": "uFfEneAPPa5T"
      }
    },
    {
      "cell_type": "markdown",
      "source": [
        "Q4: What is the difference between AI, ML, DL, and DS?"
      ],
      "metadata": {
        "id": "VE5yvmuiPa5U"
      }
    },
    {
      "cell_type": "markdown",
      "source": [
        "ANS--Artificial Intelligence is a method of making a computer, a computer-controlled robot, or a software think intelligently like the human mind."
      ],
      "metadata": {
        "id": "fLDWr0lSPa5U"
      }
    },
    {
      "cell_type": "markdown",
      "source": [
        "Machine Learning:- Its provide statstool to analyze visualize predictive models, forcasting."
      ],
      "metadata": {
        "id": "RoXtmXXzPa5U"
      }
    },
    {
      "cell_type": "markdown",
      "source": [
        "Deep learning models can recognize complex patterns in pictures, text, sounds, and other data to produce accurate insights and prediction eg:-Object detection,image recognition,CHATBOTS,Recommendation system"
      ],
      "metadata": {
        "id": "AfX0-m_1Pa5U"
      }
    },
    {
      "cell_type": "markdown",
      "source": [
        " DS is an interdisciplinary field that uses scientific methods, processes, algorithms, and systems to extract knowledge and insights from structured and unstructured data. It encompasses techniques from statistics, data analysis, and machine learning."
      ],
      "metadata": {
        "id": "B7a4IuWjPa5V"
      }
    },
    {
      "cell_type": "markdown",
      "source": [
        "Q5: What are the main differences between supervised, unsupervised, and semi-supervised learning?"
      ],
      "metadata": {
        "id": "_D5IibQ8Pa5V"
      }
    },
    {
      "cell_type": "markdown",
      "source": [
        "ANS-Supervised learning is a category of machine learning that uses labeled datasets to train algorithms to predict outcomes and recognize patterns."
      ],
      "metadata": {
        "id": "ds5XIdScPa5V"
      }
    },
    {
      "cell_type": "markdown",
      "source": [
        "An unsupervised learning algorithm will go through the data and identify patterns in the data points. For instance, it might group data by temperature or similar weather patterns."
      ],
      "metadata": {
        "id": "G9sBwsTvPa5V"
      }
    },
    {
      "cell_type": "markdown",
      "source": [
        "Semi-supervised learning is a hybrid approach that combines a small amount of labeled data with a large amount of unlabeled data."
      ],
      "metadata": {
        "id": "nYOGdKQnPa5V"
      }
    },
    {
      "cell_type": "markdown",
      "source": [
        "Q6: What is train, test and validation split? Explain the importance of each term."
      ],
      "metadata": {
        "id": "4xtn31eJPa5V"
      }
    },
    {
      "cell_type": "markdown",
      "source": [
        "ANS-Train:-The training set is the portion of the dataset used to train the machine learning model. The model learns from this data by adjusting its parameters to minimize prediction errors."
      ],
      "metadata": {
        "id": "1w2E370ePa5W"
      }
    },
    {
      "cell_type": "markdown",
      "source": [
        "Importance:\n",
        "Learning: The quality and size of the training set directly impact the model’s ability to learn patterns from the data."
      ],
      "metadata": {
        "id": "yLE1BYzNPa5W"
      }
    },
    {
      "cell_type": "markdown",
      "source": [
        "Validation:-The validation set is a subset used to tune the model's hyperparameters and make decisions about model architecture or selection without involving the test set."
      ],
      "metadata": {
        "id": "QKw0mIzaPa5W"
      }
    },
    {
      "cell_type": "markdown",
      "source": [
        "Importance:\n",
        "Hyperparameter Tuning: It helps in selecting the best model and the optimal hyperparameters by evaluating model performance on this separate set."
      ],
      "metadata": {
        "id": "NblJdhlbPa5W"
      }
    },
    {
      "cell_type": "markdown",
      "source": [
        "Avoiding Overfitting: By assessing the model's performance on the validation set, you can detect overfitting (where the model performs well on the training data but poorly on unseen data)."
      ],
      "metadata": {
        "id": "83JYjqZfPa5X"
      }
    },
    {
      "cell_type": "markdown",
      "source": [
        "Test:- The test set is a separate subset used to evaluate the final performance of the trained model. This set should not be used during training or validation.\n"
      ],
      "metadata": {
        "id": "lm5-gg73Pa5X"
      }
    },
    {
      "cell_type": "markdown",
      "source": [
        "Importance:\n",
        "Model Evaluation: The test set provides an unbiased evaluation of the final model's performance on new, unseen data."
      ],
      "metadata": {
        "id": "_XBq1zLwPa5X"
      }
    },
    {
      "cell_type": "markdown",
      "source": [
        "Generalization: A well-performing model on the test set indicates that it can generalize well to new data, which is the ultimate goal in machine learning."
      ],
      "metadata": {
        "id": "XwvrBj3WPa5X"
      }
    },
    {
      "cell_type": "markdown",
      "source": [
        "Q7: How can unsupervised learning be used in anomaly detection?"
      ],
      "metadata": {
        "id": "u16Zo21pPa5X"
      }
    },
    {
      "cell_type": "markdown",
      "source": [
        "ANS-Unsupervised learning techniques for anomaly detection enable the identification of unusual patterns in data without needing labeled examples. By leveraging clustering, density estimation, dimensionality reduction, and autoencoders, organizations can effectively uncover anomalies across various domains."
      ],
      "metadata": {
        "id": "AWdGtikgPa5Y"
      }
    },
    {
      "cell_type": "markdown",
      "source": [
        "Q8: List down some commonly used supervised learning algorithms and unsupervised learning\n",
        "algorithms."
      ],
      "metadata": {
        "id": "RJVjpqKnPa5Y"
      }
    },
    {
      "cell_type": "markdown",
      "source": [
        "ANS-Supervised Learning Algorithms"
      ],
      "metadata": {
        "id": "zsEAcDtGPa5Y"
      }
    },
    {
      "cell_type": "markdown",
      "source": [
        "1.Linear Regression: Used for predicting continuous values."
      ],
      "metadata": {
        "id": "WnquAAllPa5Y"
      }
    },
    {
      "cell_type": "markdown",
      "source": [
        "2.Logistic Regression: Used for binary classification problems."
      ],
      "metadata": {
        "id": "xhTvOAcJPa5Y"
      }
    },
    {
      "cell_type": "markdown",
      "source": [
        "3.Decision Trees: A tree-like model used for classification and regression tasks."
      ],
      "metadata": {
        "id": "PevvqBtoPa5Y"
      }
    },
    {
      "cell_type": "markdown",
      "source": [
        "4.Random Forest: An ensemble of decision trees that improves accuracy."
      ],
      "metadata": {
        "id": "7sUwFaV7Pa5Z"
      }
    },
    {
      "cell_type": "markdown",
      "source": [
        "5.Support Vector Machines (SVM): Used for classification and regression tasks by finding the optimal hyperplane."
      ],
      "metadata": {
        "id": "MXZ4-atYPa5Z"
      }
    },
    {
      "cell_type": "markdown",
      "source": [
        "6.Gradient Boosting Machines (GBM): An ensemble technique that builds models sequentially"
      ],
      "metadata": {
        "id": "3mWcYQhfPa5Z"
      }
    },
    {
      "cell_type": "markdown",
      "source": [
        "7.Neural Networks: Used for complex tasks such as image and speech recognition."
      ],
      "metadata": {
        "id": "XXgevjbXPa5Z"
      }
    },
    {
      "cell_type": "markdown",
      "source": [
        "8.AdaBoost: An ensemble method that combines multiple weak classifiers to form a strong classifier."
      ],
      "metadata": {
        "id": "ZDjGKuPwPa5i"
      }
    },
    {
      "cell_type": "markdown",
      "source": [
        "Naive Bayes: A probabilistic classifier based on Bayes' theorem."
      ],
      "metadata": {
        "id": "WUILYDlOPa5i"
      }
    },
    {
      "cell_type": "markdown",
      "source": [
        "Unsupervised Learning Algorithms"
      ],
      "metadata": {
        "id": "iEPf3YuVPa5i"
      }
    },
    {
      "cell_type": "markdown",
      "source": [
        "1.Hierarchical Clustering: Builds a hierarchy of clusters either agglomeratively or divisively.\n"
      ],
      "metadata": {
        "id": "C1-iHrPCPa5i"
      }
    },
    {
      "cell_type": "markdown",
      "source": [
        "2.Principal Component Analysis (PCA): A dimensionality reduction technique that transforms data into principal components"
      ],
      "metadata": {
        "id": "DBOBHxCgPa5j"
      }
    },
    {
      "cell_type": "markdown",
      "source": [
        "3.t-Distributed Stochastic Neighbor Embedding (t-SNE): A technique for visualizing high-dimensional data by reducing dimensions."
      ],
      "metadata": {
        "id": "1Mr2RevEPa5j"
      }
    },
    {
      "cell_type": "markdown",
      "source": [
        "4.Independent Component Analysis (ICA): A method to separate a multivariate signal into additive, independent components."
      ],
      "metadata": {
        "id": "x88sc06FPa5j"
      }
    },
    {
      "cell_type": "markdown",
      "source": [
        "5.Association Rule Learning: Algorithms like Apriori and Eclat used for finding interesting relationships between variables in large datasets."
      ],
      "metadata": {
        "id": "7-efdim0Pa5j"
      }
    },
    {
      "cell_type": "markdown",
      "source": [
        "6.Gaussian Mixture Models (GMM): A probabilistic model that assumes all data points are generated from a mixture of several Gaussian distributions."
      ],
      "metadata": {
        "id": "-bo79HExPa5j"
      }
    },
    {
      "cell_type": "markdown",
      "source": [
        "7.DBSCAN (Density-Based Spatial Clustering of Applications with Noise): A clustering algorithm that can identify clusters of varying shapes and sizes."
      ],
      "metadata": {
        "id": "MGM1IbjnPa5j"
      }
    },
    {
      "cell_type": "markdown",
      "source": [
        "8.Self-Organizing Maps (SOM): A type of artificial neural network used for data visualization and clustering."
      ],
      "metadata": {
        "id": "6F2T3NfbPa5k"
      }
    },
    {
      "cell_type": "markdown",
      "source": [
        "9.Factor Analysis: A technique used to identify underlying relationships between variables."
      ],
      "metadata": {
        "id": "kJWvqeVwPa5k"
      }
    },
    {
      "cell_type": "code",
      "source": [],
      "metadata": {
        "trusted": true,
        "id": "mtD_SeeFPa5k"
      },
      "outputs": [],
      "execution_count": null
    }
  ]
}