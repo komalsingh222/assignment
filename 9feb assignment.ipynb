{
 "cells": [
  {
   "cell_type": "markdown",
   "id": "583ba1c6-ddba-4331-a414-2eec7f230832",
   "metadata": {},
   "source": [
    "QNO1-Create a vehile class with an init method having instance variables as name_of_vehicle,max_speed and average_of_vehicle."
   ]
  },
  {
   "cell_type": "code",
   "execution_count": 3,
   "id": "2056f3a7-591e-40b9-9a0b-33b4cc49bcb9",
   "metadata": {},
   "outputs": [],
   "source": [
    "class vehicle:\n",
    "    def __init__(self, name_of_vehicle, max_speed ,average_of_vehicle):\n",
    "        self.name_of_vehicle = name_of_vehicle\n",
    "        self.max_speed = max_speed\n",
    "        self.average_of_vehicle = average_of_vehicle"
   ]
  },
  {
   "cell_type": "code",
   "execution_count": 4,
   "id": "32b53aca-4a6e-4d00-ad80-0ff6b1e0164a",
   "metadata": {},
   "outputs": [],
   "source": [
    "car = vehicle(\"mycar\",200,60)"
   ]
  },
  {
   "cell_type": "code",
   "execution_count": 6,
   "id": "77fb2613-54af-46f0-b195-cf7137dc9a1f",
   "metadata": {},
   "outputs": [
    {
     "data": {
      "text/plain": [
       "'mycar'"
      ]
     },
     "execution_count": 6,
     "metadata": {},
     "output_type": "execute_result"
    }
   ],
   "source": [
    "car.name_of_vehicle"
   ]
  },
  {
   "cell_type": "markdown",
   "id": "9a80e0ac-4b43-4a27-9c4f-98baf67ab905",
   "metadata": {},
   "source": [
    "QNO2-Create a child class car from the vehicle class created in Que 1, which will inherit the vehicle class.\n",
    "Create a method named seating_capacity which takes capacity as an argument and returns the name of\n",
    "the vehicle and its seating capacity."
   ]
  },
  {
   "cell_type": "code",
   "execution_count": 26,
   "id": "18b1a6dc-a942-4e99-b528-e1e839765f30",
   "metadata": {},
   "outputs": [
    {
     "name": "stdout",
     "output_type": "stream",
     "text": [
      "The kia has a seating capacity of 5.\n"
     ]
    }
   ],
   "source": [
    "class vehicle:\n",
    "    def __init__(self, name_of_vehicle, max_speed ,average_of_vehicle):\n",
    "        self.name_of_vehicle = name_of_vehicle\n",
    "        self.max_speed = max_speed\n",
    "        self.average_of_vehicle = average_of_vehicle\n",
    "        \n",
    "        \n",
    "class car(vehicle):\n",
    "    def seating_capacity(self,seating_capacity):\n",
    "        return f\"The {self.name_of_vehicle} has a seating capacity of {seating_capacity}.\"\n",
    "    \n",
    "car = car(\"kia\" , 200 ,60)\n",
    "print(car.seating_capacity(5))"
   ]
  },
  {
   "cell_type": "markdown",
   "id": "78031411-0784-480c-a614-282b24c51323",
   "metadata": {},
   "source": [
    "QNO3-What is multiple inheritance? Write a python code to demonstrate multiple inheritance."
   ]
  },
  {
   "cell_type": "markdown",
   "id": "cde28e18-32d8-4887-8916-93315e28a981",
   "metadata": {},
   "source": [
    "ANS-Multiple inheritance is a feature in object-oriented where a class can inherit from multiple parent class.This allow the child class to inherit the properties and methods of all its parent classes."
   ]
  },
  {
   "cell_type": "code",
   "execution_count": 42,
   "id": "e4e5f173-5bb1-499d-a6fc-be17d34a9097",
   "metadata": {},
   "outputs": [],
   "source": [
    "class Parent1:\n",
    "    def mother(self):\n",
    "        print(\"Mother is beautiful\")\n",
    "\n",
    "class Parent2:\n",
    "    def father(self):\n",
    "        print(\"father is caring\")\n",
    "\n",
    "class Child(Parent1, Parent2):\n",
    "    def baby(self):\n",
    "        print(\"child loves parent\")"
   ]
  },
  {
   "cell_type": "code",
   "execution_count": 43,
   "id": "0c5e5b61-e2a2-4d64-a90f-63ba5fc58247",
   "metadata": {},
   "outputs": [],
   "source": [
    "obj = Child()"
   ]
  },
  {
   "cell_type": "code",
   "execution_count": 44,
   "id": "ea0dc542-e602-4937-b10f-83182096ed1f",
   "metadata": {},
   "outputs": [
    {
     "name": "stdout",
     "output_type": "stream",
     "text": [
      "father is caring\n"
     ]
    }
   ],
   "source": [
    "obj.father()"
   ]
  },
  {
   "cell_type": "markdown",
   "id": "06908790-49c3-4fe4-bc7b-1d60ba944770",
   "metadata": {},
   "source": [
    "\n",
    "\n",
    "QNO4-What are getter and setter in python? Create a class and create a getter and a setter method in this\n",
    "class."
   ]
  },
  {
   "cell_type": "markdown",
   "id": "c4d5523a-3bf1-421d-9ab1-4784d4a63c69",
   "metadata": {},
   "source": [
    "ANS-Getter and setter are special methods that allow you to access and modify the values of private attributes in a class.They are often used to implement data encapsulation, which is a design priciple that procects the data in a class from being accessed or modified directly."
   ]
  },
  {
   "cell_type": "code",
   "execution_count": 13,
   "id": "f3600dca-fa62-4293-9dfb-ebb89ef99c15",
   "metadata": {},
   "outputs": [],
   "source": [
    "class student:\n",
    "    def __init__(self, name, age):\n",
    "        self._name = name\n",
    "        self._age = age\n",
    "\n",
    "    def get_name(self):\n",
    "        return self._name\n",
    "\n",
    "    def set_name(self, new_name):\n",
    "        self._name = new_name\n",
    "\n",
    "    def get_age(self):\n",
    "        return self._age\n",
    "\n",
    "    def set_age(self, new_age):\n",
    "        self._age = new_age"
   ]
  },
  {
   "cell_type": "code",
   "execution_count": 17,
   "id": "1364eea9-f014-45b4-a29b-f70f5b18a9cd",
   "metadata": {},
   "outputs": [],
   "source": [
    "student1 = student(\"komal\" , 23)"
   ]
  },
  {
   "cell_type": "code",
   "execution_count": 20,
   "id": "2c223b46-c43f-4a15-87cf-f6c7a71f3f70",
   "metadata": {},
   "outputs": [
    {
     "data": {
      "text/plain": [
       "'komal'"
      ]
     },
     "execution_count": 20,
     "metadata": {},
     "output_type": "execute_result"
    }
   ],
   "source": [
    "student1.get_name()"
   ]
  },
  {
   "cell_type": "code",
   "execution_count": 21,
   "id": "5ad69ce5-bc84-472d-9ff2-e4dded5fb3da",
   "metadata": {},
   "outputs": [
    {
     "data": {
      "text/plain": [
       "23"
      ]
     },
     "execution_count": 21,
     "metadata": {},
     "output_type": "execute_result"
    }
   ],
   "source": [
    "student1.get_age()"
   ]
  },
  {
   "cell_type": "markdown",
   "id": "e2c69aa4-f536-43f0-a78a-ad774a07c399",
   "metadata": {},
   "source": [
    "QNO5-What is method overriding in python? Write a python code to demonstrate method overriding."
   ]
  },
  {
   "cell_type": "markdown",
   "id": "cbac4f18-36e9-4606-b59e-16a2dc664ff3",
   "metadata": {},
   "source": [
    "ANS-Method overriding is a feature of object-oriented programming languages that allows a subclass or child class to provide a specific implementation of a method that is already provided by one of its super-classes or parent classes."
   ]
  },
  {
   "cell_type": "code",
   "execution_count": 5,
   "id": "48220f2f-a7d4-4a21-a2cc-4b7b3656aed9",
   "metadata": {},
   "outputs": [],
   "source": [
    "class Animal:\n",
    "    def make_sound(self):\n",
    "        pass\n",
    "    \n",
    "class Dog(Animal):\n",
    "    def make_sound(self):\n",
    "        return \"woof\"\n",
    "    \n",
    "class Cat(Animal):\n",
    "    def make_sound(self):\n",
    "        return \"meow\"\n",
    "    \n",
    "\n",
    "dog = Dog()\n",
    "cat = Cat()\n",
    "    "
   ]
  },
  {
   "cell_type": "code",
   "execution_count": 7,
   "id": "2cabb919-24a3-4994-9fcf-2fe7eed2f6ba",
   "metadata": {},
   "outputs": [
    {
     "data": {
      "text/plain": [
       "'woof'"
      ]
     },
     "execution_count": 7,
     "metadata": {},
     "output_type": "execute_result"
    }
   ],
   "source": [
    "dog.make_sound()\n"
   ]
  },
  {
   "cell_type": "code",
   "execution_count": null,
   "id": "eac5a038-c706-43c0-88f9-4a65095db9c5",
   "metadata": {},
   "outputs": [],
   "source": []
  }
 ],
 "metadata": {
  "kernelspec": {
   "display_name": "Python 3 (ipykernel)",
   "language": "python",
   "name": "python3"
  },
  "language_info": {
   "codemirror_mode": {
    "name": "ipython",
    "version": 3
   },
   "file_extension": ".py",
   "mimetype": "text/x-python",
   "name": "python",
   "nbconvert_exporter": "python",
   "pygments_lexer": "ipython3",
   "version": "3.10.8"
  }
 },
 "nbformat": 4,
 "nbformat_minor": 5
}
