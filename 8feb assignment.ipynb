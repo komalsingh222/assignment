{
 "cells": [
  {
   "cell_type": "markdown",
   "id": "b4198b3a-6326-4a67-aff9-0475555221a4",
   "metadata": {},
   "source": [
    "QNO1-What is Abstraction in oops? Explain with an example."
   ]
  },
  {
   "cell_type": "markdown",
   "id": "3d8de6b7-0c67-4d28-848a-5d7c28943b34",
   "metadata": {},
   "source": [
    "Ans-Abstraction is a fundamental concept in object-oriented programming (OOP).It allows us to hide unnecessary details and only show the needed\n",
    "information.This makes it simpler to read and maintain the code.\n",
    "for example- Imagine you are using a remote control to turn on your TV.You don't need to know how the TV works internally in order to use the remote \n",
    "control. You just need to know which buttons to press to turn the TV on, change the channel, and adjust the volume.\n",
    "The remote control is an abstraction of the TV. It hides the complex internal workings of the TV and presents a simpler, more user-friendly interface."
   ]
  },
  {
   "cell_type": "markdown",
   "id": "90b45d84-0427-4e73-b487-15bcde194ec2",
   "metadata": {},
   "source": [
    "QNO2-Differentiate between Abstraction and Encapsulation. Explain with an example."
   ]
  },
  {
   "cell_type": "markdown",
   "id": "bb779484-a35b-49b6-807e-6497606f587a",
   "metadata": {},
   "source": [
    "Ans-Encapsulation wraps code and data for unnecessary information, while Abstraction presents only useful data. Encapsulation focuses on how it\n",
    "should get done, while Abstraction focuses on what should get done."
   ]
  },
  {
   "cell_type": "markdown",
   "id": "b7c988a3-fb76-414a-9c10-104a8d786f71",
   "metadata": {},
   "source": [
    "QNO3-What is abc module in python? Why is it used?"
   ]
  },
  {
   "cell_type": "markdown",
   "id": "1f8c4d27-c79d-4a84-bc83-ef602b8869da",
   "metadata": {},
   "source": [
    "The 'abc' module in the Python library provides the infrastructure for defining custom abstract base classes. Abstract class cannot be instantiated in\n",
    "python. An Abstract method can be call by its subclasses.\n",
    "\n",
    "use of Abc module:-\n",
    "That's where ABC(Abstract Base Class) plays an important role in making sure that the subclasses must follow that blueprint.\n",
    "Thus we can say that the subclasses inherited from the abstract class must follow the same structure and implements the abstract methods."
   ]
  },
  {
   "cell_type": "markdown",
   "id": "079e178c-fd69-40b3-b3c6-45f7c9468873",
   "metadata": {},
   "source": [
    "QNO4-How can we achieve data abstraction?"
   ]
  },
  {
   "cell_type": "markdown",
   "id": "b84caf10-346e-48ec-adc9-c5cfbde95f53",
   "metadata": {},
   "source": [
    "Ans-We can achieve data abstraction through Abstract classes and interfaces. Through abstract classes, you can achieve partial or complete abstraction as\n",
    " abstract classes contain methods that have an implementation which can\n",
    "result in partial abstraction."
   ]
  },
  {
   "cell_type": "markdown",
   "id": "d1e16b75-4e8c-4e8c-a9ad-0f6c18e5c605",
   "metadata": {},
   "source": [
    "QNO5-Can we create an instance of an abstract class? Explain your answer."
   ]
  },
  {
   "cell_type": "markdown",
   "id": "2018e862-7812-460b-91bd-4dd4352901cf",
   "metadata": {},
   "source": [
    "Ans-Abstract classes cannot be instantiated, but they can be subclassed. When an abstract class is subclassed, the subclass usually provides implementations for all of the abstract methods in its parent class. However, if it does not, then the subclass must also be declared abstract"
   ]
  },
  {
   "cell_type": "code",
   "execution_count": null,
   "id": "4d95fb4f-3f48-408b-be70-ab276a15df66",
   "metadata": {},
   "outputs": [],
   "source": []
  }
 ],
 "metadata": {
  "kernelspec": {
   "display_name": "Python 3 (ipykernel)",
   "language": "python",
   "name": "python3"
  },
  "language_info": {
   "codemirror_mode": {
    "name": "ipython",
    "version": 3
   },
   "file_extension": ".py",
   "mimetype": "text/x-python",
   "name": "python",
   "nbconvert_exporter": "python",
   "pygments_lexer": "ipython3",
   "version": "3.10.8"
  }
 },
 "nbformat": 4,
 "nbformat_minor": 5
}
