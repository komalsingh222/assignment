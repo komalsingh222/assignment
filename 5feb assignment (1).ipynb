{
 "cells": [
  {
   "cell_type": "markdown",
   "id": "4737642f-6a6e-466e-86f3-584743510aaa",
   "metadata": {},
   "source": [
    "#QNO1-Explain class and object with respect to object-oriented programming.Give a suitable examlple."
   ]
  },
  {
   "cell_type": "raw",
   "id": "49184e8a-021b-49da-b18b-b01915d78f6f",
   "metadata": {},
   "source": [
    "classes are user-defined data types that act as the blueprint for individual objects,attributes and methods.\n",
    "Object are instances of a class created with specifically  defined data. objects can correspond to real-world \n",
    "objects or an abstract entity. \n",
    "Example- Bicycle is a class then mountainBicycle sportsBicycle, etc can be considered as object of class"
   ]
  },
  {
   "cell_type": "markdown",
   "id": "7fca159e-0377-4b02-969f-3a8f69554d0c",
   "metadata": {},
   "source": [
    "#QNO2-Name the four pillars of OOPs."
   ]
  },
  {
   "cell_type": "raw",
   "id": "322766dd-ab53-4362-b7d8-4d9a7d7347f1",
   "metadata": {},
   "source": [
    "The four pillars of OOPs are:-\n",
    "Abstraction.\n",
    "Encapsulation.\n",
    "Inheritance.\n",
    "Polymorphism.\n"
   ]
  },
  {
   "cell_type": "raw",
   "id": "cdc3c0e8-8a34-4e1a-9659-816388684b27",
   "metadata": {},
   "source": [
    "#QNO3-Explain why the __init__() function is used.Give a suitable example."
   ]
  },
  {
   "cell_type": "raw",
   "id": "53056569-96a4-4694-9b39-f31b78e7d809",
   "metadata": {},
   "source": [
    "__init__ function is used to initialize the attributes of that class .\n",
    "cExample- If the class is a person, then then the attributes will be name age etc."
   ]
  },
  {
   "cell_type": "markdown",
   "id": "48c46dec-5808-4ed1-892b-92356c48ead0",
   "metadata": {},
   "source": [
    "#QNO4-Why self is used in OOPs?"
   ]
  },
  {
   "cell_type": "raw",
   "id": "9a856a4d-022f-4c40-98fb-dcf6e8799cd1",
   "metadata": {},
   "source": [
    "Self is used  to represent the instance of the class in OOPs."
   ]
  },
  {
   "cell_type": "markdown",
   "id": "710545f3-69d1-498b-9665-50f861d67767",
   "metadata": {},
   "source": [
    "#QNO5-What is inheritance?Give an example for each type of inheritance."
   ]
  },
  {
   "cell_type": "raw",
   "id": "66f77eb8-a6f6-4b0e-b607-be98e9eeabc7",
   "metadata": {},
   "source": [
    "Inheritance is a mechanism in which one class acquire the property of another class.\n",
    "Example, a child  inherits the traits of his/her parents. with the inheritance,we can  reuse the feild and method\n",
    "of the existing class."
   ]
  },
  {
   "cell_type": "code",
   "execution_count": null,
   "id": "b53683da-6adb-4c11-8498-1bfd90f9b4ae",
   "metadata": {},
   "outputs": [],
   "source": []
  }
 ],
 "metadata": {
  "kernelspec": {
   "display_name": "Python 3 (ipykernel)",
   "language": "python",
   "name": "python3"
  },
  "language_info": {
   "codemirror_mode": {
    "name": "ipython",
    "version": 3
   },
   "file_extension": ".py",
   "mimetype": "text/x-python",
   "name": "python",
   "nbconvert_exporter": "python",
   "pygments_lexer": "ipython3",
   "version": "3.10.8"
  }
 },
 "nbformat": 4,
 "nbformat_minor": 5
}
