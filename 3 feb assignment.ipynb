{
 "cells": [
  {
   "cell_type": "markdown",
   "id": "0f44bdd3-d0f9-481f-bdb0-08357402b3a0",
   "metadata": {},
   "source": [
    "Qno1-which keyword is  used to create a function? create a function to return  a list of odd number in the range of 1 to 25."
   ]
  },
  {
   "cell_type": "code",
   "execution_count": null,
   "id": "18f2b33f-58d7-4431-a312-1a1d6c2ada9b",
   "metadata": {},
   "outputs": [],
   "source": [
    "the def keyword is used to create a function."
   ]
  },
  {
   "cell_type": "code",
   "execution_count": 11,
   "id": "6537f3a0-b65f-410d-abb1-aeebec189c68",
   "metadata": {},
   "outputs": [
    {
     "name": "stdout",
     "output_type": "stream",
     "text": [
      "1 3 5 7 9 11 13 15 17 19 21 23 25 "
     ]
    }
   ],
   "source": [
    "def odd(num1,num2):\n",
    "    if num1>num2:\n",
    "        return\n",
    "    if num1& 1:\n",
    "        print(num1,end=\" \")\n",
    "        return odd(num1+2,num2)\n",
    "    else:\n",
    "        return odd(num1 + num2)\n",
    "num1 =1 ;num2 =25\n",
    "odd(num1,num2)"
   ]
  },
  {
   "cell_type": "markdown",
   "id": "f5077a9e-1443-4879-9a67-257588e62114",
   "metadata": {},
   "source": [
    "Qno2-why *args and **kwargs is used in some functions? Create a function each for *args and **kwargs to domonstrate their use."
   ]
  },
  {
   "cell_type": "code",
   "execution_count": null,
   "id": "91c3edd2-2b4d-4048-8623-96714594ac17",
   "metadata": {},
   "outputs": [],
   "source": [
    "we use *args and **kwargs as an argument when we are unsure about the number of argunents to pass in the function."
   ]
  },
  {
   "cell_type": "code",
   "execution_count": 1,
   "id": "ae417b9c-d604-4871-b6ea-05b057f26e8b",
   "metadata": {},
   "outputs": [],
   "source": [
    "def test1(*args):\n",
    "    return args"
   ]
  },
  {
   "cell_type": "code",
   "execution_count": 4,
   "id": "64c60fdf-9e16-4bd5-b096-60641109aff9",
   "metadata": {},
   "outputs": [
    {
     "data": {
      "text/plain": [
       "(2, 3, 4, 6, 'komal')"
      ]
     },
     "execution_count": 4,
     "metadata": {},
     "output_type": "execute_result"
    }
   ],
   "source": [
    "test1(2,3,4,6,\"komal\")"
   ]
  },
  {
   "cell_type": "code",
   "execution_count": 5,
   "id": "145a3662-339e-4a01-95da-cc0cf0ef93a5",
   "metadata": {},
   "outputs": [],
   "source": [
    "def test2(**kwargs):\n",
    "    return kwargs"
   ]
  },
  {
   "cell_type": "code",
   "execution_count": 6,
   "id": "55702320-5c89-468d-9b68-e6760ad629b2",
   "metadata": {},
   "outputs": [
    {
     "data": {
      "text/plain": [
       "{'a': [2, 3, 4], 'b': 'komal', 'c': 678}"
      ]
     },
     "execution_count": 6,
     "metadata": {},
     "output_type": "execute_result"
    }
   ],
   "source": [
    "test2( a = [2,3,4] , b = \"komal\" , c = 678)"
   ]
  },
  {
   "cell_type": "markdown",
   "id": "9995367a-691d-44cd-a53b-cdfde62f6672",
   "metadata": {},
   "source": [
    "Qno3-What is an iterator in  python? Name the method used  to initialise the iterator object and the method used for iteration.Use this\n",
    "methods to print the first five elements of the given list [2,4,6,8,10,12,14,16,18,20]."
   ]
  },
  {
   "cell_type": "code",
   "execution_count": null,
   "id": "5a3b23a9-7b22-49e4-9ac6-08381ee5b7bb",
   "metadata": {},
   "outputs": [],
   "source": [
    "An iterator is an object that allow you to iterate over collections of data,such as lists,tuples dictionaries and sets is used\n",
    "iter() method is used to initialise the iterator object so that the instance of this object can be used for iterating."
   ]
  },
  {
   "cell_type": "code",
   "execution_count": 1,
   "id": "c7565644-a8a0-4741-93c1-4c6edf4992d3",
   "metadata": {},
   "outputs": [],
   "source": [
    "l = [2,4,6,8,10,12,14,16,18,20]"
   ]
  },
  {
   "cell_type": "code",
   "execution_count": 2,
   "id": "14e720a9-aa13-4f34-96fc-8f80a50df869",
   "metadata": {},
   "outputs": [
    {
     "name": "stdout",
     "output_type": "stream",
     "text": [
      "2\n",
      "4\n",
      "6\n",
      "8\n",
      "10\n",
      "12\n",
      "14\n",
      "16\n",
      "18\n",
      "20\n"
     ]
    }
   ],
   "source": [
    "l1= iter(l)\n",
    "\n",
    "for i in l1:\n",
    "    print(i)"
   ]
  },
  {
   "cell_type": "markdown",
   "id": "93dcb002-67e2-46eb-877e-98c9d6638d92",
   "metadata": {},
   "source": [
    "Qn04-What is a generator function in python? Why yield keyword is used?Give an example of a generator fuction."
   ]
  },
  {
   "cell_type": "markdown",
   "id": "c53e8be7-51f7-4efa-b05d-fee0aa87ab1f",
   "metadata": {},
   "source": [
    "ans-Generator function in python, a generator is a function that returns an iterator that produces a sequence of values when iterated over.\n",
    "The yield keyword is used in python to control the flow of a generator function."
   ]
  },
  {
   "cell_type": "code",
   "execution_count": 8,
   "id": "3eae026a-3ce7-4d9b-831b-610c01ea3cce",
   "metadata": {},
   "outputs": [],
   "source": [
    "def test_fib():\n",
    "    a ,b = 0 ,1\n",
    "    while True:\n",
    "        yield a\n",
    "        a,b = b, a+b"
   ]
  },
  {
   "cell_type": "code",
   "execution_count": 11,
   "id": "07ccffe4-7392-4897-b9a4-ce6195be58b3",
   "metadata": {},
   "outputs": [],
   "source": [
    "fib = test_fib()"
   ]
  },
  {
   "cell_type": "code",
   "execution_count": 15,
   "id": "f55b9506-5206-4b24-b67d-8feb97fe9d79",
   "metadata": {},
   "outputs": [
    {
     "name": "stdout",
     "output_type": "stream",
     "text": [
      "0\n",
      "1\n",
      "1\n",
      "2\n",
      "3\n",
      "5\n",
      "8\n",
      "13\n",
      "21\n",
      "34\n"
     ]
    }
   ],
   "source": [
    "for i in range(10):\n",
    "    print(next (fib))"
   ]
  },
  {
   "cell_type": "markdown",
   "id": "57caa180-9443-4f64-81a9-92f073632ee4",
   "metadata": {},
   "source": [
    "Qno5-Create a generator function for prime numbers less than 1000.Use the next() method to print the first 20 prime numbers."
   ]
  },
  {
   "cell_type": "code",
   "execution_count": 14,
   "id": "e9d66b5d-f831-44b3-bc2a-b114c38f5ff4",
   "metadata": {},
   "outputs": [
    {
     "name": "stdout",
     "output_type": "stream",
     "text": [
      "3\n",
      "5\n",
      "7\n",
      "9\n",
      "11\n",
      "13\n",
      "15\n",
      "17\n",
      "19\n",
      "21\n",
      "23\n",
      "25\n",
      "27\n",
      "29\n",
      "31\n",
      "33\n",
      "35\n",
      "37\n",
      "39\n",
      "41\n"
     ]
    }
   ],
   "source": [
    "def is_prime(n):\n",
    "    if n <=1:\n",
    "        return False\n",
    "    for i in range(2,300):\n",
    "        if n % i == 0:\n",
    "            return False\n",
    "        return True\n",
    "def prime_num_generator():\n",
    "    n = 2 \n",
    "    while True:\n",
    "        if is_prime(n):\n",
    "            yield n\n",
    "        n += 1\n",
    "        \n",
    "#create the generator object\n",
    "primes = prime_num_generator()\n",
    "\n",
    "#use next()method to print first 20 prime number.\n",
    "for i in range(20):\n",
    "    print(next(primes))"
   ]
  },
  {
   "cell_type": "markdown",
   "id": "4f08e678-0256-47d9-b5ca-c2cd8d5f1b43",
   "metadata": {},
   "source": [
    "Qno6-Write a python program to print the first 10 fibonacci numbers using a while loop."
   ]
  },
  {
   "cell_type": "code",
   "execution_count": 2,
   "id": "da0aea03-6291-48d9-b968-6d59b939edc9",
   "metadata": {},
   "outputs": [
    {
     "name": "stdin",
     "output_type": "stream",
     "text": [
      "enter the number of element 10\n"
     ]
    },
    {
     "name": "stdout",
     "output_type": "stream",
     "text": [
      "0\n",
      "1\n",
      "1\n",
      "2\n",
      "3\n",
      "5\n",
      "8\n",
      "13\n",
      "21\n",
      "34\n"
     ]
    }
   ],
   "source": [
    "number = int(input(\"enter the number of element\"))\n",
    "a , b = 0, 1\n",
    "counter = 0 \n",
    "while counter < number:\n",
    "    print(a)\n",
    "    c =  a+b\n",
    "    a = b \n",
    "    b = c\n",
    "    counter = counter +1\n",
    "             "
   ]
  },
  {
   "cell_type": "markdown",
   "id": "fe39a2be-61e2-47f1-93c5-a61586e2dfb3",
   "metadata": {},
   "source": [
    " Qno7-Write a list comprehension to iterate through the given string: 'pwskills' .\n",
    "Expected output: ['p','w','s','k','i','l','l','s;]"
   ]
  },
  {
   "cell_type": "code",
   "execution_count": 3,
   "id": "e5e6f59a-4627-4a1f-8d51-3ac3d837d988",
   "metadata": {},
   "outputs": [],
   "source": [
    "l = 'pwskills'"
   ]
  },
  {
   "cell_type": "code",
   "execution_count": 32,
   "id": "0606357b-bb25-46f7-9834-5411aeb2e98e",
   "metadata": {},
   "outputs": [
    {
     "name": "stdout",
     "output_type": "stream",
     "text": [
      "['p', 'w', 's', 'k', 'i', 'l', 'l', 's']\n"
     ]
    }
   ],
   "source": [
    "p_letters = [letter for letter in 'pwskills']\n",
    "print(p_letters)\n"
   ]
  },
  {
   "cell_type": "markdown",
   "id": "0449a4ba-49ee-4d8a-8321-729b3c331ed9",
   "metadata": {},
   "source": [
    "Qno8-Write a python program to check whether a given number is palindrome or not using a while loop."
   ]
  },
  {
   "cell_type": "code",
   "execution_count": 20,
   "id": "638d6813-608e-4f91-9342-6ebdd1f7e7cd",
   "metadata": {},
   "outputs": [
    {
     "name": "stdin",
     "output_type": "stream",
     "text": [
      "Enter a number: 11\n"
     ]
    },
    {
     "name": "stdout",
     "output_type": "stream",
     "text": [
      "The number is a palindrome\n"
     ]
    }
   ],
   "source": [
    "num = int(input(\"Enter a number:\"))\n",
    "def is_palindrome(n):\n",
    "    numb = n\n",
    "    rev = 0\n",
    "    while(n>0):\n",
    "        dig =  n%10\n",
    "        rev = rev * 10 +dig \n",
    "        n =  n//10\n",
    "    return (numb == rev)\n",
    "\n",
    "if ( is_palindrome(num)):\n",
    "    print(\"The number is a palindrome\")\n",
    "else:\n",
    "    print(\"The is not a palindrome\")\n"
   ]
  },
  {
   "cell_type": "markdown",
   "id": "5d3b246a-bb47-4bff-9510-d3532a7dfc86",
   "metadata": {},
   "source": [
    "Qno9-Write a code to print odd numbers  from 1 to 100 using a list comprehension."
   ]
  },
  {
   "cell_type": "code",
   "execution_count": 13,
   "id": "ecf8979b-505c-4d70-91f4-2ec18e23d537",
   "metadata": {},
   "outputs": [
    {
     "name": "stdout",
     "output_type": "stream",
     "text": [
      "[1, 3, 5, 7, 9, 11, 13, 15, 17, 19, 21, 23, 25, 27, 29, 31, 33, 35, 37, 39, 41, 43, 45, 47, 49, 51, 53, 55, 57, 59, 61, 63, 65, 67, 69, 71, 73, 75, 77, 79, 81, 83, 85, 87, 89, 91, 93, 95, 97, 99]\n"
     ]
    }
   ],
   "source": [
    "odd_list = [num for num in range(1,100) if num % 2 == 1]\n",
    "print(odd_list)"
   ]
  },
  {
   "cell_type": "code",
   "execution_count": null,
   "id": "610f76c9-e087-4f17-a26d-232d0a6b8c20",
   "metadata": {},
   "outputs": [],
   "source": []
  }
 ],
 "metadata": {
  "kernelspec": {
   "display_name": "Python 3 (ipykernel)",
   "language": "python",
   "name": "python3"
  },
  "language_info": {
   "codemirror_mode": {
    "name": "ipython",
    "version": 3
   },
   "file_extension": ".py",
   "mimetype": "text/x-python",
   "name": "python",
   "nbconvert_exporter": "python",
   "pygments_lexer": "ipython3",
   "version": "3.10.8"
  }
 },
 "nbformat": 4,
 "nbformat_minor": 5
}
