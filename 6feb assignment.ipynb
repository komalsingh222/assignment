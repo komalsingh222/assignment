{
 "cells": [
  {
   "cell_type": "markdown",
   "id": "0e28bf7a-c516-4ac8-a86e-426f74eb07d9",
   "metadata": {},
   "source": [
    "Qno-1.Create a function which will take a list as an argument and return the product of all the numbers after creating a flat list."
   ]
  },
  {
   "cell_type": "code",
   "execution_count": 2,
   "id": "467598c8-3653-4687-9594-13358eb7992d",
   "metadata": {},
   "outputs": [
    {
     "name": "stdout",
     "output_type": "stream",
     "text": [
      "Product of all numbers in the flattened list: 0\n"
     ]
    }
   ],
   "source": [
    "def flatten_and_multiply(lst):\n",
    "    result = 1\n",
    "    for item in lst:\n",
    "        if isinstance(item, list):\n",
    "            result *= flatten_and_multiply(item)\n",
    "        elif isinstance(item, dict):\n",
    "            result *= flatten_and_multiply(item.values())\n",
    "        elif isinstance(item, (int, float)):\n",
    "            result *= item\n",
    "    return result\n",
    "\n",
    "# Given list\n",
    "list1 = [1, 2, 3, 4, [44, 55, 66, True], False, (34, 56, 78, 89, 34), {1, 2, 3, 3, 2, 1}, {1: 34, \"key2\": [55, 67, 78, 89], 4: (45, 22, 61, 34)},\n",
    "         [56, 'data science'], 'Machine Learning']\n",
    "\n",
    "# Call the function with the given list\n",
    "result = flatten_and_multiply(list1)\n",
    "\n",
    "# Print the result\n",
    "print(\"Product of all numbers in the flattened list:\", result)\n"
   ]
  },
  {
   "cell_type": "markdown",
   "id": "e550c95a-c58f-4257-b026-68fa4efe1ae3",
   "metadata": {},
   "source": [
    "QNO2-Write a python program for encrypting a message sent to you by your friend .The logic of encryption should be such that, for a the output should \n",
    "be z for b the output should be y.For c output should be x respectively.Also, the whitespace should be replaced with a dollar sign.Keep the punctuation\n",
    " marks unchanged.\n",
    "    Input sentances : i want to became a data scientist.\n",
    "    Encrypt the above input sentences using the program you just created."
   ]
  },
  {
   "cell_type": "code",
   "execution_count": 6,
   "id": "9bb52f13-fd29-46f3-80e1-44a501e0296d",
   "metadata": {},
   "outputs": [],
   "source": [
    "import string\n",
    "def encode(msg):\n",
    "    msg=msg.lower()\n",
    "    a=[]\n",
    "    code=\"\"\n",
    "    for i in string.ascii_lowercase:\n",
    "        a.append(i)\n",
    "    y=a[::-1]\n",
    "    for j in msg:\n",
    "        if j.isspace():\n",
    "            code=code+\"$\"\n",
    "        elif j in string.punctuation:\n",
    "            code=code+j\n",
    "        else:\n",
    "            n=a.index(j)\n",
    "            code=code+y[n]\n",
    "            \n",
    "    return code"
   ]
  },
  {
   "cell_type": "code",
   "execution_count": 7,
   "id": "32a63d48-d847-4476-9d83-20391c546e20",
   "metadata": {},
   "outputs": [
    {
     "data": {
      "text/plain": [
       "'r$dzmg$gl$yvxlnv$z$wzgz$hxrvmgrhg.'"
      ]
     },
     "execution_count": 7,
     "metadata": {},
     "output_type": "execute_result"
    }
   ],
   "source": [
    "encode(\"I want to become a Data scientist.\")"
   ]
  },
  {
   "cell_type": "code",
   "execution_count": null,
   "id": "410e2f58-bf85-4b88-ac17-487edd77db89",
   "metadata": {},
   "outputs": [],
   "source": []
  }
 ],
 "metadata": {
  "kernelspec": {
   "display_name": "Python 3 (ipykernel)",
   "language": "python",
   "name": "python3"
  },
  "language_info": {
   "codemirror_mode": {
    "name": "ipython",
    "version": 3
   },
   "file_extension": ".py",
   "mimetype": "text/x-python",
   "name": "python",
   "nbconvert_exporter": "python",
   "pygments_lexer": "ipython3",
   "version": "3.10.8"
  }
 },
 "nbformat": 4,
 "nbformat_minor": 5
}
