{
 "cells": [
  {
   "cell_type": "markdown",
   "id": "4737642f-6a6e-466e-86f3-584743510aaa",
   "metadata": {},
   "source": [
    "#QNO1-Explain class and object with respect to object-oriented programming.Give a suitable examlple."
   ]
  },
  {
   "cell_type": "code",
   "execution_count": null,
   "id": "149173b4-87a5-416e-af79-8a8b2937eec0",
   "metadata": {},
   "outputs": [],
   "source": [
    "classes are user-defined data types that act as the blueprint for individual objects,attributes and methods.\n",
    "Object are instances of a class created with specifically  defined data. objects can correspond to real-world \n",
    "objects or an abstract entity. \n",
    "Example- Bicycle is a class then mountainBicycle sportsBicycle, etc can be considered as object of class"
   ]
  },
  {
   "cell_type": "markdown",
   "id": "7fca159e-0377-4b02-969f-3a8f69554d0c",
   "metadata": {},
   "source": [
    "#QNO2-Name the four pillars of OOPs."
   ]
  },
  {
   "cell_type": "code",
   "execution_count": null,
   "id": "1b5f0b72-1d02-44ec-980b-43762afa71ea",
   "metadata": {},
   "outputs": [],
   "source": [
    "The four pillars of OOPs are:-\n",
    "Abstraction.\n",
    "Encapsulation.\n",
    "Inheritance.\n",
    "Polymorphism.\n"
   ]
  },
  {
   "cell_type": "markdown",
   "id": "d03c1cb8-d9cd-4614-b967-6f55c1b2d52e",
   "metadata": {},
   "source": [
    "#QNO3-Explain why the __init__() function is used.Give a suitable example."
   ]
  },
  {
   "cell_type": "code",
   "execution_count": null,
   "id": "132aaf04-d22c-4c22-b9dc-efd56578e545",
   "metadata": {},
   "outputs": [],
   "source": [
    "__init__() function is used to initialize the attributes of that class .\n",
    "Example- If the class is a person, then then the attributes will be name age etc."
   ]
  },
  {
   "cell_type": "markdown",
   "id": "48c46dec-5808-4ed1-892b-92356c48ead0",
   "metadata": {},
   "source": [
    "#QNO4-Why self is used in OOPs?"
   ]
  },
  {
   "cell_type": "code",
   "execution_count": null,
   "id": "e6379af7-29ca-46c9-a976-d1bdeaac178c",
   "metadata": {},
   "outputs": [],
   "source": [
    "Self is used  to represent the instance of the class in OOPs."
   ]
  },
  {
   "cell_type": "markdown",
   "id": "710545f3-69d1-498b-9665-50f861d67767",
   "metadata": {},
   "source": [
    "#QNO5-What is inheritance?Give an example for each type of inheritance."
   ]
  },
  {
   "cell_type": "code",
   "execution_count": null,
   "id": "6f14039b-eefb-49c8-a164-e24d9d7829e4",
   "metadata": {},
   "outputs": [],
   "source": [
    "Inheritance is a mechanism in which one class acquire the property of another class.\n",
    "Example, a child  inherits the traits of his/her parents. with the inheritance,we can  reuse the feild and method\n",
    "of the existing class."
   ]
  },
  {
   "cell_type": "code",
   "execution_count": null,
   "id": "b53683da-6adb-4c11-8498-1bfd90f9b4ae",
   "metadata": {},
   "outputs": [],
   "source": []
  }
 ],
 "metadata": {
  "kernelspec": {
   "display_name": "Python 3 (ipykernel)",
   "language": "python",
   "name": "python3"
  },
  "language_info": {
   "codemirror_mode": {
    "name": "ipython",
    "version": 3
   },
   "file_extension": ".py",
   "mimetype": "text/x-python",
   "name": "python",
   "nbconvert_exporter": "python",
   "pygments_lexer": "ipython3",
   "version": "3.10.8"
  }
 },
 "nbformat": 4,
 "nbformat_minor": 5
}
