{
 "cells": [
  {
   "cell_type": "markdown",
   "id": "1e6730af-f9e1-49ea-97b6-eb890fdf2d2a",
   "metadata": {},
   "source": [
    "#Qno1-Write a program to accept percentage from the user and display the grade according to the following criteria:"
   ]
  },
  {
   "cell_type": "code",
   "execution_count": 3,
   "id": "57855295-d35a-4711-a08d-794188db2e97",
   "metadata": {},
   "outputs": [
    {
     "name": "stdin",
     "output_type": "stream",
     "text": [
      "enter your marks 90\n"
     ]
    },
    {
     "name": "stdout",
     "output_type": "stream",
     "text": [
      "grade B\n"
     ]
    }
   ],
   "source": [
    "marks = int(input(\"enter your marks\")) \n",
    "if marks > 90:\n",
    "    print(\"grade A\")\n",
    "elif marks > 80 and marks <= 90:\n",
    "     print(\"grade B\") \n",
    "elif marks >= 60 and marks <=80:\n",
    "     print(\"grade C\")\n",
    "else:\n",
    "     print(\"grade D\")\n",
    "    \n"
   ]
  },
  {
   "cell_type": "markdown",
   "id": "795899ac-b849-456b-9821-9bb3bf7577cb",
   "metadata": {},
   "source": [
    "#Qno2-Write a program to accept the cost price of a bike and display the road tax to be paid according to the\n",
    "following creteria:"
   ]
  },
  {
   "cell_type": "code",
   "execution_count": 4,
   "id": "9ba4d5cd-fa14-436e-a0a5-ec634676b73b",
   "metadata": {},
   "outputs": [
    {
     "name": "stdin",
     "output_type": "stream",
     "text": [
      "enter cost price 40000\n"
     ]
    },
    {
     "name": "stdout",
     "output_type": "stream",
     "text": [
      "Road tax to be paid: 2000.0\n"
     ]
    }
   ],
   "source": [
    "cost_price = int(input(\"enter cost price\"))\n",
    "road_tax = 0\n",
    "\n",
    "if cost_price > 100000:\n",
    "    road_tax=cost_price*0.15\n",
    "    \n",
    "elif  cost_price >500000 and cost_price <= 100000:\n",
    "    road_tax=cost_price*0,10\n",
    "else:\n",
    "    road_tax=cost_price*.05\n",
    "print(\"Road tax to be paid:\",road_tax)"
   ]
  },
  {
   "cell_type": "markdown",
   "id": "cfbf01f6-7349-4297-9456-65314fe58454",
   "metadata": {},
   "source": [
    "#Qno3-Aceept any city from the user and display monuments of that city."
   ]
  },
  {
   "cell_type": "code",
   "execution_count": 30,
   "id": "18f5fe92-fe44-468f-8ebb-40758bf4fbbe",
   "metadata": {},
   "outputs": [
    {
     "name": "stdin",
     "output_type": "stream",
     "text": [
      "enter city name Agra\n"
     ]
    },
    {
     "name": "stdout",
     "output_type": "stream",
     "text": [
      "Taj Mahal\n"
     ]
    }
   ],
   "source": [
    "city = input(\"enter city name\")\n",
    "if city == \"Delhi\":\n",
    "    print(\"Red Fort\")\n",
    "elif city == \"Agra\":\n",
    "    print(\"Taj Mahal\")\n",
    "elif city ==\"Jaipur\":\n",
    "    print(\"Jai Mahal\")\n",
    "else:\n",
    "    print(\"enter city\")\n",
    "\n"
   ]
  },
  {
   "cell_type": "markdown",
   "id": "b218c3e7-2d35-4cfc-9cf4-11545b3df2bd",
   "metadata": {},
   "source": [
    "#Qno4-Check how many times a given number can be divided by 3 before it is less than or equal to 10."
   ]
  },
  {
   "cell_type": "code",
   "execution_count": 2,
   "id": "9ccb3e6d-c59c-4654-a0ec-e04a65f2f651",
   "metadata": {},
   "outputs": [
    {
     "name": "stdout",
     "output_type": "stream",
     "text": [
      "number is divided by 3 1\n",
      "number is divided by 3 2\n",
      "number is divided by 3 3\n",
      "number is divided by 3 4\n"
     ]
    }
   ],
   "source": [
    "num = 270\n",
    "count = 0 \n",
    "while num>=10:\n",
    "    num=num / 3\n",
    "    count = count + 1\n",
    "    print(\"number is divided by 3\",count)"
   ]
  },
  {
   "cell_type": "markdown",
   "id": "eeba42da-0420-454e-a927-084762849e95",
   "metadata": {},
   "source": [
    "#Qno5-Why and when to use while loop in python give a detailed description with example?"
   ]
  },
  {
   "cell_type": "code",
   "execution_count": 23,
   "id": "6955c74d-5651-4fcc-b124-778427700d7b",
   "metadata": {},
   "outputs": [
    {
     "name": "stdout",
     "output_type": "stream",
     "text": [
      "1\n",
      "2\n",
      "3\n",
      "4\n",
      "5\n"
     ]
    }
   ],
   "source": [
    "#while loop is used to repeat a specific block of code unknown number of times until a condition is met.\n",
    "\n",
    "\n",
    "i = 1 \n",
    "n = 5\n",
    "while i <=n:\n",
    "    print(i)\n",
    "    i = i +1"
   ]
  },
  {
   "cell_type": "markdown",
   "id": "949dbc40-5b33-44a5-a29d-108accbc1c5d",
   "metadata": {},
   "source": [
    "#Qno6-Use nested while loop to print 3 different pattern."
   ]
  },
  {
   "cell_type": "code",
   "execution_count": 3,
   "id": "c07511ba-e2e3-4a85-8923-25a4bbe21efd",
   "metadata": {},
   "outputs": [
    {
     "name": "stdout",
     "output_type": "stream",
     "text": [
      "* \n",
      "* * \n",
      "* * * \n",
      "* * * * \n",
      "* * * * * \n"
     ]
    }
   ],
   "source": [
    "i = 1\n",
    "\n",
    "while i <=5:\n",
    "    j = 1\n",
    "    while j<= i:\n",
    "        print(\"*\",end=\" \")\n",
    "        j +=1\n",
    "    print()\n",
    "    i +=1\n",
    "        \n",
    "    "
   ]
  },
  {
   "cell_type": "code",
   "execution_count": 1,
   "id": "efda6579-1b92-41da-abcf-b116a148bb00",
   "metadata": {},
   "outputs": [
    {
     "name": "stdout",
     "output_type": "stream",
     "text": [
      "* * * * * \n",
      "* * * * \n",
      "* * * \n",
      "* * \n",
      "* \n"
     ]
    }
   ],
   "source": [
    "i = 1\n",
    "while i <= 5:\n",
    "    j = 5\n",
    "    while j >=i:\n",
    "        print(\"*\",end =\" \")\n",
    "        j-=1\n",
    "    print()\n",
    "    i+=1"
   ]
  },
  {
   "cell_type": "code",
   "execution_count": 2,
   "id": "2a89c0e9-79da-481c-9e7b-5f9cd45e9696",
   "metadata": {},
   "outputs": [
    {
     "name": "stdout",
     "output_type": "stream",
     "text": [
      "    *\n",
      "    **\n",
      "    ***\n",
      "    ****\n",
      "    *****\n"
     ]
    }
   ],
   "source": [
    "i = 1 \n",
    "while i <= 5:\n",
    "    print(\" \"*(5-1) + \"*\" * i)\n",
    "    i +=1"
   ]
  },
  {
   "cell_type": "markdown",
   "id": "cb87f3fa-2ff2-4d5a-8ef3-47b409868ad6",
   "metadata": {},
   "source": [
    "#Qno7-Reverse a while loop to display numbers from 10 to 1."
   ]
  },
  {
   "cell_type": "code",
   "execution_count": 1,
   "id": "37a94163-cd7b-413f-a46a-b6f1348535e9",
   "metadata": {},
   "outputs": [
    {
     "name": "stdout",
     "output_type": "stream",
     "text": [
      "10\n",
      "9\n",
      "8\n",
      "7\n",
      "6\n",
      "5\n",
      "4\n",
      "3\n",
      "2\n",
      "1\n"
     ]
    }
   ],
   "source": [
    "number = 10\n",
    "\n",
    "while number >=1:\n",
    "    print(number)\n",
    "    number -= 1"
   ]
  },
  {
   "cell_type": "markdown",
   "id": "d7a2e4e5-a2a8-498b-b2f7-5648d651f6c4",
   "metadata": {},
   "source": [
    "#Qno8-Reverse a while loop to display numbers from 10 to 1."
   ]
  },
  {
   "cell_type": "code",
   "execution_count": 3,
   "id": "7e975906-a13a-4992-ae69-f9889d89511c",
   "metadata": {},
   "outputs": [
    {
     "name": "stdout",
     "output_type": "stream",
     "text": [
      "10\n",
      "9\n",
      "8\n",
      "7\n",
      "6\n",
      "5\n",
      "4\n",
      "3\n",
      "2\n",
      "1\n"
     ]
    }
   ],
   "source": [
    "number = 10\n",
    "\n",
    "while number >=1:\n",
    "    print(number)\n",
    "    number -= 1"
   ]
  },
  {
   "cell_type": "code",
   "execution_count": null,
   "id": "d982d18d-71ce-4a88-b905-db93868c4376",
   "metadata": {},
   "outputs": [],
   "source": []
  }
 ],
 "metadata": {
  "kernelspec": {
   "display_name": "Python 3 (ipykernel)",
   "language": "python",
   "name": "python3"
  },
  "language_info": {
   "codemirror_mode": {
    "name": "ipython",
    "version": 3
   },
   "file_extension": ".py",
   "mimetype": "text/x-python",
   "name": "python",
   "nbconvert_exporter": "python",
   "pygments_lexer": "ipython3",
   "version": "3.10.8"
  }
 },
 "nbformat": 4,
 "nbformat_minor": 5
}
