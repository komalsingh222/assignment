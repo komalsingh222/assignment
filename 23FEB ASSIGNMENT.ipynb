{
 "cells": [
  {
   "cell_type": "markdown",
   "id": "031e6304-10ed-4b31-b81d-85e91b2a5ef2",
   "metadata": {},
   "source": [
    "Q1. Create a Pandas Series that contains the following data: 4, 8, 15, 16, 23, and 42. Then, print the series."
   ]
  },
  {
   "cell_type": "code",
   "execution_count": 5,
   "id": "d8ae8b7f-d8af-4190-a4f9-459d22023ae9",
   "metadata": {},
   "outputs": [
    {
     "name": "stdout",
     "output_type": "stream",
     "text": [
      "a     4\n",
      "b     8\n",
      "c    15\n",
      "d    16\n",
      "e    23\n",
      "f    42\n",
      "dtype: int64\n"
     ]
    }
   ],
   "source": [
    "import pandas as pd\n",
    "\n",
    "s = pd.Series([4,8,15,16,23,42], index=['a','b','c','d','e','f'])\n",
    "\n",
    "print(s)\n"
   ]
  },
  {
   "cell_type": "markdown",
   "id": "1ab164fb-b3c9-4eb5-830f-91b7851f212f",
   "metadata": {},
   "source": [
    "Q2. Create a variable of list type containing 10 elements in it, and apply pandas.Series function on the\n",
    "variable print it."
   ]
  },
  {
   "cell_type": "code",
   "execution_count": 7,
   "id": "4881c7d3-d109-4951-898d-41719d7eefbf",
   "metadata": {},
   "outputs": [
    {
     "name": "stdout",
     "output_type": "stream",
     "text": [
      "0     10\n",
      "1     20\n",
      "2     30\n",
      "3     40\n",
      "4     50\n",
      "5     60\n",
      "6     70\n",
      "7     80\n",
      "8     90\n",
      "9    100\n",
      "dtype: int64\n"
     ]
    }
   ],
   "source": [
    "import pandas as pd\n",
    "\n",
    "s1 = pd.Series([10,20,30,40,50,60,70,80,90,100])\n",
    "\n",
    "print(s1)"
   ]
  },
  {
   "cell_type": "markdown",
   "id": "2fbd00f8-7e22-449a-98a4-90e80fbf1b7d",
   "metadata": {},
   "source": [
    "Q3. Create a Pandas DataFrame that contains the following data: Name\n",
    "Alice\n",
    "Bob\n",
    "Claire\n",
    "\n",
    "Age\n",
    "25\n",
    "30\n",
    "27\n",
    "\n",
    "Gender\n",
    "Female\n",
    "Male\n",
    "Female\n",
    "\n",
    "Then, print the DataFrame."
   ]
  },
  {
   "cell_type": "code",
   "execution_count": 10,
   "id": "583730c0-fd97-49e4-ab41-baa13ca2d34a",
   "metadata": {},
   "outputs": [
    {
     "name": "stdout",
     "output_type": "stream",
     "text": [
      "     Name  Age  Gender\n",
      "0   Alice   25  Female\n",
      "1     Bob   30    Male\n",
      "2  Claire   27  Female\n"
     ]
    }
   ],
   "source": [
    "import pandas as pd\n",
    "\n",
    "data_frame = pd.DataFrame({'Name':['Alice' , 'Bob', 'Claire'],'Age':[25,30,27],'Gender':['Female','Male','Female']})\n",
    "\n",
    "print(data_frame)"
   ]
  },
  {
   "cell_type": "markdown",
   "id": "6b5f7290-4e01-4ec3-84ef-c27c5065ef8d",
   "metadata": {},
   "source": [
    "Q4. What is ‘DataFrame’ in pandas and how is it different from pandas.series? Explain with an example."
   ]
  },
  {
   "cell_type": "markdown",
   "id": "43791376-bade-413f-b8e3-b29c798ed8e7",
   "metadata": {},
   "source": [
    "ANS-In Pandas, a DataFrame is a two-dimensional data structure with labeled axes. It can be thought of as a dict-like container for Series objects. The rows of a DataFrame are labeled by a unique index, and the columns are labeled by strings. Each column of a DataFrame is a Series object."
   ]
  },
  {
   "cell_type": "markdown",
   "id": "7bd169f5-a679-4395-9c26-6f3a3c058cd0",
   "metadata": {},
   "source": [
    "The differences between DataFrame and Series is that a DataFrame can have multiple columns, while a Series can only have one. This means that a DataFrame can store more complex and heterogeneous data, while a Series can store more simple and homogeneous data."
   ]
  },
  {
   "cell_type": "markdown",
   "id": "87d63995-34fb-4095-b735-cb75c2b9bb4a",
   "metadata": {},
   "source": [
    "Examples of DataFrame :-"
   ]
  },
  {
   "cell_type": "code",
   "execution_count": 11,
   "id": "a05a82b9-d264-44d2-b8ad-cc8eb69ceaf7",
   "metadata": {},
   "outputs": [
    {
     "name": "stdout",
     "output_type": "stream",
     "text": [
      "   A  B\n",
      "0  1  5\n",
      "1  2  6\n",
      "2  3  7\n",
      "3  4  8\n"
     ]
    }
   ],
   "source": [
    "import pandas as pd\n",
    "\n",
    "df = pd.DataFrame({\"A\":[1,2,3,4] , \"B\":[5,6,7,8]})\n",
    "\n",
    "\n",
    "print(df)"
   ]
  },
  {
   "cell_type": "markdown",
   "id": "351ec2ee-177a-493a-8b44-224bc8d6d565",
   "metadata": {},
   "source": [
    "Example of Pandas series:-"
   ]
  },
  {
   "cell_type": "code",
   "execution_count": 12,
   "id": "3fd66499-a3ca-4704-94be-c27770a7335f",
   "metadata": {},
   "outputs": [
    {
     "name": "stdout",
     "output_type": "stream",
     "text": [
      "a    2\n",
      "b    4\n",
      "c    6\n",
      "dtype: int64\n"
     ]
    }
   ],
   "source": [
    "import pandas as pd\n",
    "\n",
    "df1 = pd.Series([2,4,6], index = ['a','b','c'])\n",
    "\n",
    "print(df1)\n"
   ]
  },
  {
   "cell_type": "markdown",
   "id": "be9e469a-20fc-48f2-9b18-eb1c41973f2d",
   "metadata": {},
   "source": [
    "Q5. What are some common functions you can use to manipulate data in a Pandas DataFrame? Can\n",
    "you give an example of when you might use one of these functions?"
   ]
  },
  {
   "cell_type": "markdown",
   "id": "3df8ca5b-eecc-4168-a436-45e548a6844d",
   "metadata": {},
   "source": [
    "1.head() and tail(): These functions allow you to view the first or last few rows of your DataFrame, respectively. They are useful for quickly inspecting your data\n"
   ]
  },
  {
   "cell_type": "markdown",
   "id": "233cd3e0-d182-470d-ad37-8ea4e97137e6",
   "metadata": {},
   "source": [
    "2.info(): Provides a concise summary of the DataFrame, including the data types of each column and the number of non-null values."
   ]
  },
  {
   "cell_type": "markdown",
   "id": "5268393a-dff5-4ef3-95d8-63d09ee61602",
   "metadata": {},
   "source": [
    "3.describe(): Generates descriptive statistics for numerical columns in the DataFrame, such as count, mean, standard deviation, min, max, etc."
   ]
  },
  {
   "cell_type": "markdown",
   "id": "3a713d6d-7f19-4d24-9e1d-5cfaafb86211",
   "metadata": {},
   "source": [
    "4.shape: Returns a tuple representing the dimensions of the DataFrame (number of rows, number of columns)."
   ]
  },
  {
   "cell_type": "markdown",
   "id": "8260e65b-128d-4da7-bf8f-19648d492bd4",
   "metadata": {},
   "source": [
    "5.loc[] and iloc[]: These are used for label-based and integer-based indexing, respectively."
   ]
  },
  {
   "cell_type": "markdown",
   "id": "13051242-dd4b-4e19-b98c-17131eb49bbb",
   "metadata": {},
   "source": [
    "6.loc[] and iloc[]: These are used for label-based and integer-based indexing, respectively."
   ]
  },
  {
   "cell_type": "markdown",
   "id": "5766899f-8d9b-4257-95c2-a768fc755de5",
   "metadata": {},
   "source": [
    "7.merge(): Combines two DataFrames based on a common column."
   ]
  },
  {
   "cell_type": "markdown",
   "id": "cec2d288-a4f6-4de9-a1eb-30a66b137371",
   "metadata": {},
   "source": [
    "8.read_csv(): Loads data from a CSV file into a DataFrame. \n"
   ]
  },
  {
   "cell_type": "code",
   "execution_count": 1,
   "id": "7a4ba699-1d24-4039-9c2f-a8e4488cff9c",
   "metadata": {},
   "outputs": [
    {
     "name": "stdout",
     "output_type": "stream",
     "text": [
      "       Employee_ID        Salary  Productivity\n",
      "count     5.000000      5.000000      5.000000\n",
      "mean      3.000000  59400.000000      7.600000\n",
      "std       1.581139   7536.577473      1.140175\n",
      "min       1.000000  50000.000000      6.000000\n",
      "25%       2.000000  55000.000000      7.000000\n",
      "50%       3.000000  60000.000000      8.000000\n",
      "75%       4.000000  62000.000000      8.000000\n",
      "max       5.000000  70000.000000      9.000000\n"
     ]
    }
   ],
   "source": [
    "import pandas as pd\n",
    "\n",
    "\n",
    "data = {\n",
    "    'Employee_ID': [1, 2, 3, 4, 5],\n",
    "    'Salary': [50000, 60000, 70000, 55000, 62000],\n",
    "    'Productivity': [8, 7, 9, 6, 8]\n",
    "}\n",
    "\n",
    "# Creating DataFrame\n",
    "df = pd.DataFrame(data)\n",
    "\n",
    "description = df.describe()\n",
    "\n",
    "print(description)\n"
   ]
  },
  {
   "cell_type": "markdown",
   "id": "c87bef62-812c-444d-a2c2-4fcc185a439d",
   "metadata": {},
   "source": [
    "Q6. Which of the following is mutable in nature Series, DataFrame, Panel?"
   ]
  },
  {
   "cell_type": "markdown",
   "id": "bfa57954-9d66-465d-9476-4dd00dab105a",
   "metadata": {},
   "source": [
    "ANS-In Pandas, both Series and DataFrame are mutable, meaning you can modify their values after creation. However, the Panel object, which used to be part of Pandas for handling three-dimensional data, has been deprecated and removed from the library. Therefore, between the options provided, only Series and DataFrame are relevant, and both are mutable.\n",
    "\n",
    "\n",
    "\n",
    "\n"
   ]
  },
  {
   "cell_type": "markdown",
   "id": "eb28201b-a153-40e6-86c0-a8b82923ca59",
   "metadata": {},
   "source": [
    "Q7. Create a DataFrame using multiple Series. Explain with an example."
   ]
  },
  {
   "cell_type": "code",
   "execution_count": 3,
   "id": "701f0727-c400-49b2-bd34-56b4c1471cb9",
   "metadata": {},
   "outputs": [
    {
     "name": "stdout",
     "output_type": "stream",
     "text": [
      "  student_name  age  student_class\n",
      "0        amnan   11              6\n",
      "1        amrit   21              7\n",
      "2        krish   13              8\n",
      "3        rohan   14              9\n",
      "4        mohan   12             10\n"
     ]
    }
   ],
   "source": [
    "import pandas as pd\n",
    "\n",
    "# Create multiple Series\n",
    "student_names = (['amnan','amrit','krish','rohan','mohan'])\n",
    "ages = pd.Series([11, 21, 13, 14, 12])\n",
    "student_classes = pd.Series([6, 7, 8, 9, 10])\n",
    "\n",
    "df3 = pd.DataFrame({'student_name': student_names, 'age': ages , 'student_class':student_classes})\n",
    "\n",
    "\n",
    "print(df3)"
   ]
  },
  {
   "cell_type": "code",
   "execution_count": null,
   "id": "60bf325d-69ed-4bb0-b0c5-17767921aa97",
   "metadata": {},
   "outputs": [],
   "source": []
  }
 ],
 "metadata": {
  "kernelspec": {
   "display_name": "Python 3 (ipykernel)",
   "language": "python",
   "name": "python3"
  },
  "language_info": {
   "codemirror_mode": {
    "name": "ipython",
    "version": 3
   },
   "file_extension": ".py",
   "mimetype": "text/x-python",
   "name": "python",
   "nbconvert_exporter": "python",
   "pygments_lexer": "ipython3",
   "version": "3.10.8"
  }
 },
 "nbformat": 4,
 "nbformat_minor": 5
}
