{
 "cells": [
  {
   "cell_type": "markdown",
   "id": "385907fb-ed1e-4fff-8b23-3728aea187bc",
   "metadata": {},
   "source": [
    "#Qno1-Who developed python programming language?"
   ]
  },
  {
   "cell_type": "code",
   "execution_count": null,
   "id": "0367cd4e-f806-4c3c-9400-5daefab87e20",
   "metadata": {},
   "outputs": [],
   "source": [
    "Guido van Rossum developed python programming language."
   ]
  },
  {
   "cell_type": "markdown",
   "id": "461f6553-2a5f-4e0a-ad0c-b3072acbe329",
   "metadata": {},
   "source": [
    "#Qno2-Which type of programming does python support?"
   ]
  },
  {
   "cell_type": "code",
   "execution_count": null,
   "id": "e99c2bb5-840c-4289-b4d5-4d4280db3c17",
   "metadata": {},
   "outputs": [],
   "source": [
    "python is an interpreted programming language,supporting object-oriented,structured and functional programming."
   ]
  },
  {
   "cell_type": "markdown",
   "id": "44d7e785-62c8-4f05-a4a5-ea0689289859",
   "metadata": {},
   "source": [
    "#Qno3- Is python case sensitive when dealing with identifiers?"
   ]
  },
  {
   "cell_type": "code",
   "execution_count": null,
   "id": "f7be9b4c-f047-4b7c-aa9b-9a3b339d8915",
   "metadata": {},
   "outputs": [],
   "source": [
    "yes, python is a case sensitive language , it treats uppercase and lowercase characters differently. This\n",
    "applies to identifiers too."
   ]
  },
  {
   "cell_type": "markdown",
   "id": "a580e3ae-f90b-4fe3-94a5-1ee2ec4259c0",
   "metadata": {},
   "source": [
    "#Qno4-What is the correct extension of the python file?"
   ]
  },
  {
   "cell_type": "code",
   "execution_count": null,
   "id": "30f94041-1939-4f8a-ab73-d432373d4692",
   "metadata": {},
   "outputs": [],
   "source": [
    "The correct extension of the python file is \".py\"."
   ]
  },
  {
   "cell_type": "markdown",
   "id": "1356b821-f643-48ff-9143-9620dd2cc289",
   "metadata": {},
   "source": [
    "#Qno5-Is python code complied or interpreted?"
   ]
  },
  {
   "cell_type": "code",
   "execution_count": null,
   "id": "d72105da-4221-42a8-806b-6251eadee793",
   "metadata": {},
   "outputs": [],
   "source": [
    "python is both compiled as  well as an interpreted language."
   ]
  },
  {
   "cell_type": "markdown",
   "id": "8f84616a-0a31-4816-96a1-485536a428dc",
   "metadata": {},
   "source": [
    "#Qno6-Name a few blocks of code used to define in python language?"
   ]
  },
  {
   "cell_type": "code",
   "execution_count": null,
   "id": "76d0b801-4769-4452-91ba-fd04f11cd4b3",
   "metadata": {},
   "outputs": [],
   "source": [
    "a module, a function body, and a class definition is the blocks of code used to define in python language."
   ]
  },
  {
   "cell_type": "markdown",
   "id": "cbaa0e94-a296-4c2c-93ac-9a60739af81a",
   "metadata": {},
   "source": [
    "#Qno7-State a character used to give single-line commments in python?"
   ]
  },
  {
   "cell_type": "code",
   "execution_count": null,
   "id": "63e51643-fe3b-4fae-9e3e-9fdabb279d06",
   "metadata": {},
   "outputs": [],
   "source": [
    "we can write a single-line  comment by adding a  character hash symbol #"
   ]
  },
  {
   "cell_type": "markdown",
   "id": "bf500904-1f56-456b-bc4c-a34a1966ccb4",
   "metadata": {},
   "source": [
    "#Qno8-Mention function which can help us to find the version of python that we are currently working on?"
   ]
  },
  {
   "cell_type": "code",
   "execution_count": null,
   "id": "bd1520d1-f7bf-4be5-b985-2aa715889b27",
   "metadata": {},
   "outputs": [],
   "source": [
    "The function \"sys.\" version can help us to find the version of python that we are currently working on."
   ]
  },
  {
   "cell_type": "markdown",
   "id": "bdd3c3bb-fdae-4f98-8b46-0deb901976af",
   "metadata": {},
   "source": [
    "#Qno9-Python supports the creation of anonymous functions at runtime, using a construct called _ _ _ _ _ _ _"
   ]
  },
  {
   "cell_type": "code",
   "execution_count": null,
   "id": "9c775ebe-e50d-4fa5-a204-6bb95ec64d38",
   "metadata": {},
   "outputs": [],
   "source": [
    "Python supports the creation of anonymous functions at runtime , using a construct called \"lambda."
   ]
  },
  {
   "cell_type": "markdown",
   "id": "4b26e7a3-8831-4b2b-b6c4-bdaeebff592b",
   "metadata": {},
   "source": [
    "#Qno10-What does pip stand for python?"
   ]
  },
  {
   "cell_type": "code",
   "execution_count": null,
   "id": "d20ff6f1-b7f6-4e30-b435-cda0eab4e14a",
   "metadata": {},
   "outputs": [],
   "source": [
    "Pip stands for \"package installer for python\" , using pip we can install packages from python package index or \n",
    "other indexes."
   ]
  },
  {
   "cell_type": "markdown",
   "id": "04031756-3468-4a73-9069-739fa156bb05",
   "metadata": {},
   "source": [
    "#Qno11-Mention a few built-in function in python?"
   ]
  },
  {
   "cell_type": "code",
   "execution_count": null,
   "id": "1baadc63-ac50-403e-a538-a2f8436454b6",
   "metadata": {},
   "outputs": [],
   "source": [
    "Some a few built-in function in python:-\n",
    "bool(),dict(),list(),float(),set() ,tuple(),type(),print(), range(), str(), sum(),len(),input()."
   ]
  },
  {
   "cell_type": "markdown",
   "id": "bd72a99e-7416-419d-bdfb-f8a80aed2341",
   "metadata": {},
   "source": [
    "#Qno12-What is the maximum possible length of an identifier in python?"
   ]
  },
  {
   "cell_type": "code",
   "execution_count": null,
   "id": "c59e5c97-3242-43b7-b521-6b1ad5a229de",
   "metadata": {},
   "outputs": [],
   "source": [
    "An identifer can have a maximum length of 79 charcters in python."
   ]
  },
  {
   "cell_type": "markdown",
   "id": "5bca0be7-d769-4ba0-9101-2c5697857ec0",
   "metadata": {},
   "source": [
    "#Qno13-What are the benifits of using python?"
   ]
  },
  {
   "cell_type": "code",
   "execution_count": null,
   "id": "802d8c2d-4bdb-425c-8cf6-8b21ade687e0",
   "metadata": {},
   "outputs": [],
   "source": [
    "The benifits of pyhton:-\n",
    "1.Simple to use and understand.\n",
    "2.Free and open-source.\n",
    "3.Productivity has increased.\n",
    "4.Supportive community.\n",
    "5.Dynamically typed."
   ]
  },
  {
   "cell_type": "markdown",
   "id": "7c3ed740-4dff-4d1e-992f-453fc82767ed",
   "metadata": {},
   "source": [
    "#Qno14-How is memory managed in python?"
   ]
  },
  {
   "cell_type": "code",
   "execution_count": null,
   "id": "bd9d0008-34f5-4da8-8453-91a8cb979934",
   "metadata": {},
   "outputs": [],
   "source": [
    "Memory  management in python involves the management of a private heap."
   ]
  },
  {
   "cell_type": "markdown",
   "id": "e618c5bf-5bff-46a9-875f-0890b44b6a45",
   "metadata": {},
   "source": [
    "#Qno15-How to install python on windows and set path variables?"
   ]
  },
  {
   "cell_type": "code",
   "execution_count": null,
   "id": "22310816-a121-4fdb-93e2-20238da1e901",
   "metadata": {},
   "outputs": [],
   "source": [
    "1.Right-click This pc and going to properties.\n",
    "2.Click on advanced system settings in the menu.\n",
    "3.Click on Environment variables buttom.\n",
    "4.In the system variables section,selecting path variable and click on Edit."
   ]
  },
  {
   "cell_type": "markdown",
   "id": "ed8fc5ec-a2be-4ea5-ace8-0ba910a7f802",
   "metadata": {},
   "source": [
    "#Qno16-Is indentation required in python?"
   ]
  },
  {
   "cell_type": "code",
   "execution_count": null,
   "id": "d153b478-5840-4580-8ec2-c65c69234be2",
   "metadata": {},
   "outputs": [],
   "source": [
    "yes, indentation is important to python."
   ]
  }
 ],
 "metadata": {
  "kernelspec": {
   "display_name": "Python 3 (ipykernel)",
   "language": "python",
   "name": "python3"
  },
  "language_info": {
   "codemirror_mode": {
    "name": "ipython",
    "version": 3
   },
   "file_extension": ".py",
   "mimetype": "text/x-python",
   "name": "python",
   "nbconvert_exporter": "python",
   "pygments_lexer": "ipython3",
   "version": "3.10.8"
  }
 },
 "nbformat": 4,
 "nbformat_minor": 5
}
