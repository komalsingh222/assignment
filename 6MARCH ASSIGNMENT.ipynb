{
 "cells": [
  {
   "cell_type": "markdown",
   "id": "33a3c988-3a8d-4e7f-82b6-2e79647c5540",
   "metadata": {},
   "source": [
    "Q1. What is Statistics?"
   ]
  },
  {
   "cell_type": "markdown",
   "id": "97e493d2-caff-4009-8bc6-8e065c0a7ccd",
   "metadata": {},
   "source": [
    "ANS-Statistic is the science of collecting ,organising and analyzing data."
   ]
  },
  {
   "cell_type": "markdown",
   "id": "c6100ad2-63cb-424b-8379-8dd6bc3de320",
   "metadata": {},
   "source": [
    "Q2. Define the different types of statistics and give an example of when each type might be used."
   ]
  },
  {
   "cell_type": "markdown",
   "id": "c3b77deb-33cb-488b-89f0-96b12460f7e8",
   "metadata": {},
   "source": [
    "1.Descriptive statistics:"
   ]
  },
  {
   "cell_type": "markdown",
   "id": "7d81edc8-851d-4ce4-94fd-f52e8fb9f12b",
   "metadata": {},
   "source": [
    "It consits of organising and sumarizing data."
   ]
  },
  {
   "cell_type": "markdown",
   "id": "097397e9-0aa2-4725-9485-409619553888",
   "metadata": {},
   "source": [
    "Examples:\n",
    "    "
   ]
  },
  {
   "cell_type": "markdown",
   "id": "99d8379e-cfea-4d85-861a-8a571973ae57",
   "metadata": {},
   "source": [
    "Calculating the average age of students in a classroom."
   ]
  },
  {
   "cell_type": "markdown",
   "id": "951a4a10-b8db-4419-9f5d-c0b6fb356e08",
   "metadata": {},
   "source": [
    "Using a histogram to visualize the distribution of test scores."
   ]
  },
  {
   "cell_type": "markdown",
   "id": "f15de021-de82-4005-9e33-6c59b9aacfa1",
   "metadata": {},
   "source": [
    "2.Inferential statistics:"
   ]
  },
  {
   "cell_type": "markdown",
   "id": "9fa88915-7e31-4e0a-9018-f4c083a3b001",
   "metadata": {},
   "source": [
    "It consists of using data you have measured to form conclusion."
   ]
  },
  {
   "cell_type": "markdown",
   "id": "0b28eb48-2e66-498c-909c-4da14d4ff654",
   "metadata": {},
   "source": [
    "Conducting a t-test to determine if there is a significant difference between two groups."
   ]
  },
  {
   "cell_type": "markdown",
   "id": "30da03ee-9195-44fb-8092-060ac571d4ac",
   "metadata": {},
   "source": [
    "Estimating the proportion of voters who support a particular candidate based on a survey."
   ]
  },
  {
   "cell_type": "markdown",
   "id": "424381ea-ee14-44e2-bfca-108aa4e53d60",
   "metadata": {},
   "source": [
    "Using regression analysis to predict future sales based on past data."
   ]
  },
  {
   "cell_type": "markdown",
   "id": "b5f274a4-2c47-40e7-89d7-74f3ebb34add",
   "metadata": {},
   "source": [
    "When to use each type:"
   ]
  },
  {
   "cell_type": "markdown",
   "id": "63547e15-8fa0-4283-bc89-dba243ead223",
   "metadata": {},
   "source": [
    "Descriptive statistics: Used when you want to understand the basic characteristics of a dataset."
   ]
  },
  {
   "cell_type": "markdown",
   "id": "12909366-5d09-4e18-9b46-cc17af791e8b",
   "metadata": {},
   "source": [
    "Inferential statistics: Used when you want to make generalizations about a larger population based on a sample or test a hypothesis."
   ]
  },
  {
   "cell_type": "markdown",
   "id": "5aa003b3-ce92-465a-ad5f-82805cbafe25",
   "metadata": {},
   "source": [
    "Q3. What are the different types of data and how do they differ from each other? Provide an example of\n",
    "each type of data."
   ]
  },
  {
   "cell_type": "markdown",
   "id": "d3cbd3bf-1d47-4013-9c36-136aad91941a",
   "metadata": {},
   "source": [
    "Types of data:"
   ]
  },
  {
   "cell_type": "markdown",
   "id": "f4feffb4-2a3e-4c0c-9f3b-11360b182947",
   "metadata": {},
   "source": [
    "1.Quantitative Data: This type of data is numerical and can be measured. It is divided into two subtypes: discrete and continuous."
   ]
  },
  {
   "cell_type": "markdown",
   "id": "6dd7eb01-935e-4c2f-80e8-e652f6fed159",
   "metadata": {},
   "source": [
    "Discrete Data: Consists of countable values. Example: The number of students in a classroom (e.g., 25 students)."
   ]
  },
  {
   "cell_type": "markdown",
   "id": "6dc8305e-1d32-455a-8c4b-846356f926e2",
   "metadata": {},
   "source": [
    "Continuous Data: Consists of values within a range and can take on any value within that range. Example: The height of students (e.g., 160.5 cm)."
   ]
  },
  {
   "cell_type": "markdown",
   "id": "6662c923-92eb-418d-87fe-426aaaf18ab7",
   "metadata": {},
   "source": [
    "2.Qualitative Data: Also known as categorical data, it describes qualities or characteristics and is divided into two subtypes: nominal and ordinal."
   ]
  },
  {
   "cell_type": "markdown",
   "id": "70fcc04a-462a-4af5-aec0-ac5d189c0ee0",
   "metadata": {},
   "source": [
    "Nominal Data: Consists of categories without any intrinsic order. Example: Types of fruits (e.g., apples, oranges, bananas)."
   ]
  },
  {
   "cell_type": "markdown",
   "id": "2d22a979-2ef9-43b0-b0d9-433e442d1e27",
   "metadata": {},
   "source": [
    "Ordinal Data: Consists of categories with a meaningful order but no fixed interval between them. Example: Customer satisfaction ratings (e.g., very satisfied, satisfied, neutral, dissatisfied, very dissatisfied).\n"
   ]
  },
  {
   "cell_type": "markdown",
   "id": "c723ffb9-2e6a-4ddb-b302-59c1dbb7bfaf",
   "metadata": {},
   "source": [
    "Q4. Categorise the following datasets with respect to quantitative and qualitative data types:"
   ]
  },
  {
   "cell_type": "raw",
   "id": "ba86171e-839c-4829-8e25-163cf87bd95e",
   "metadata": {},
   "source": [
    "(i) Grading in exam: A+, A, B+, B, C+, C, D, E\n",
    "(ii) Colour of mangoes: yellow, green, orange, red\n",
    "(iii) Height data of a class: [178.9, 179, 179.5, 176, 177.2, 178.3, 175.8,...]\n",
    "(iv) Number of mangoes exported by a farm: [500, 600, 478, 672, ...]"
   ]
  },
  {
   "cell_type": "markdown",
   "id": "08fe1d8a-4fd8-4e68-b046-89c8f075bdee",
   "metadata": {},
   "source": [
    "ANS:-(i) Grading in exam: A+, A, B+, B, C+,  C,D,E: Ordinal Data"
   ]
  },
  {
   "cell_type": "markdown",
   "id": "8bb77dce-483f-4a2f-becd-bf3ef4d95cbd",
   "metadata": {},
   "source": [
    "(ii) Colour of mangoes: yellow, green, orange, red: Nominal Data"
   ]
  },
  {
   "cell_type": "markdown",
   "id": "d94d74d1-cf2c-46a3-ab19-62c4f43a759e",
   "metadata": {},
   "source": [
    "(iii) Height data of a class: [178.9, 179, 179.5, 176, 177.2, 178.3, 175.8,...]: Continuous Data"
   ]
  },
  {
   "cell_type": "markdown",
   "id": "d9e0d316-58bc-4a97-b96b-7c116a12a907",
   "metadata": {},
   "source": [
    "(iv) Number of mangoes exported by a farm: [500, 600, 478, 672, ...] : Discrete Data"
   ]
  },
  {
   "cell_type": "markdown",
   "id": "2bfc08de-b91d-4039-aa02-9a475065f96d",
   "metadata": {},
   "source": [
    "Q5. Explain the concept of levels of measurement and give an example of a variable for each level."
   ]
  },
  {
   "cell_type": "markdown",
   "id": "6c2d0515-2fa3-45cd-8e7f-58657be19455",
   "metadata": {},
   "source": [
    "ANS-\n",
    "Levels of measurement refer to the different ways in which variables can be quantified or categorized. Understanding these levels is crucial in choosing appropriate statistical analyses. The four levels of measurement are nominal, ordinal, interval, and ratio."
   ]
  },
  {
   "cell_type": "markdown",
   "id": "92b51711-bcc3-45e9-a05c-032daa7c8aab",
   "metadata": {},
   "source": [
    "1.Nominal Level:This is the most basic level of measurement, where data is categorized without any quantitative value. Categories are mutually exclusive and collectively exhaustive."
   ]
  },
  {
   "cell_type": "markdown",
   "id": "08f15cd5-1e9e-4c7f-9079-fc49c702fb10",
   "metadata": {},
   "source": [
    "Example: Types of fruits (e.g., apples, oranges, bananas). Here, fruits are categorized without any inherent order."
   ]
  },
  {
   "cell_type": "markdown",
   "id": "b48cdd5c-b064-46f1-84fa-ae6fd5541c98",
   "metadata": {},
   "source": [
    "2.Ordinal Level:This level involves ordered categories, where the order matters but the differences between the categories are not uniform or known."
   ]
  },
  {
   "cell_type": "markdown",
   "id": "92757f94-f93e-4b8d-9c85-5c9e358705ea",
   "metadata": {},
   "source": [
    "Example: Educational attainment (e.g., high school, bachelor's degree, master's degree). These categories have a logical order, but the intervals between them are not necessarily equal."
   ]
  },
  {
   "cell_type": "markdown",
   "id": "77e7a79f-e9fb-4e24-b883-c86ed8fa14f6",
   "metadata": {},
   "source": [
    "3.Interval Level:nterval measurement includes ordered categories with known and equal intervals between them, but there is no true zero point."
   ]
  },
  {
   "cell_type": "markdown",
   "id": "140c24a9-1f33-4bc2-843c-3c73da0d7a41",
   "metadata": {},
   "source": [
    "Example: Temperature in Celsius or Fahrenheit. The difference between each degree is the same, but zero does not indicate an absence of temperature.\n"
   ]
  },
  {
   "cell_type": "markdown",
   "id": "80d38a98-72da-46fb-bdd4-00c95002e8d6",
   "metadata": {},
   "source": [
    "4.Ratio Level: The highest level of measurement, ratio scales have all the properties of interval scales, and also have a true zero point, which allows for the calculation of ratios."
   ]
  },
  {
   "cell_type": "markdown",
   "id": "f383df40-4550-446e-adef-5bdbf2e8f549",
   "metadata": {},
   "source": [
    "Example: Weight in kilograms. It has equal intervals and a true zero point, meaning that it is meaningful to say that one object is twice as heavy as another."
   ]
  },
  {
   "cell_type": "markdown",
   "id": "39014819-57d1-40ce-bdda-4426d5e898a2",
   "metadata": {},
   "source": [
    "Q6. Why is it important to understand the level of measurement when analyzing data? Provide an\n",
    "example to illustrate your answer."
   ]
  },
  {
   "cell_type": "markdown",
   "id": "4a46fbf5-5852-4d74-8fc8-93865cc7af61",
   "metadata": {},
   "source": [
    "ANS-Understanding the level of measurement when analyzing data is crucial because it dictates the types of statistical analyses that are appropriate and meaningful. The level of measurement determines the nature of the data and how it can be used in calculations, influencing the conclusions that can be drawn from the analysis. There are four levels of measurement: nominal, ordinal, interval, and ratio.\n"
   ]
  },
  {
   "cell_type": "markdown",
   "id": "9a3435b1-eb1c-479e-a475-de13d01f488c",
   "metadata": {},
   "source": [
    "1.Choice of Statistical Tests: Different levels of measurement require different statistical tests. Using an inappropriate test can lead to incorrect conclusions."
   ]
  },
  {
   "cell_type": "markdown",
   "id": "8a249925-82c0-4ed4-be73-379e547d025e",
   "metadata": {},
   "source": [
    "2.Data Interpretation: The level of measurement affects how data is interpreted. For instance, the difference between categories in nominal data cannot be quantified, while differences in interval data can be meaningfully interpreted."
   ]
  },
  {
   "cell_type": "markdown",
   "id": "ea185fae-f040-470a-968b-3a87678a5598",
   "metadata": {},
   "source": [
    "3.Accuracy of Results: Some measurements allow for more precise calculations and analyses. Using the correct level ensures the accuracy and validity of the results."
   ]
  },
  {
   "cell_type": "markdown",
   "id": "bf3612e5-ae91-48f6-8f6b-edcce6a5e0a5",
   "metadata": {},
   "source": [
    "Example:-"
   ]
  },
  {
   "cell_type": "markdown",
   "id": "03546251-da36-4174-aa88-1ba6e3d71301",
   "metadata": {},
   "source": [
    "Nominal:\n",
    "A qualitative scale that uses symbols or numbers to classify and sort data into categories, but doesn't rank it. For example, you might use the letters M, F, and N to represent different personality types, or numbers to represent jersey numbers."
   ]
  },
  {
   "cell_type": "markdown",
   "id": "dd0e1148-b8b9-4278-96f1-b94867b87dcb",
   "metadata": {},
   "source": [
    "Ordinal:\n",
    "A level of measurement that uses order or rank to classify data. For example, you might use the order of finish in a race, letter grades, or a ranking of chili peppers."
   ]
  },
  {
   "cell_type": "markdown",
   "id": "35ee9c29-ef1d-4eb4-8b1c-997af8902ce7",
   "metadata": {},
   "source": [
    "Interval:\n",
    "A level of measurement that can be used to gather data with a true zero point."
   ]
  },
  {
   "cell_type": "markdown",
   "id": "4d274cb3-6140-4dc3-9f96-1103f98eb00b",
   "metadata": {},
   "source": [
    "Ratio:\n",
    "A level of measurement that can be used to gather data with a true zero point"
   ]
  },
  {
   "cell_type": "markdown",
   "id": "144a8959-d700-4fff-a269-43132db6d05b",
   "metadata": {},
   "source": [
    "Q7. How nominal data type is different from ordinal data type."
   ]
  },
  {
   "cell_type": "markdown",
   "id": "113c43c0-4f7b-4873-8d00-24d5e4ac4fca",
   "metadata": {},
   "source": [
    "ANS-Nominal and ordinal data are both types of categorical data, but the key difference is that nominal data has no inherent order, while ordinal data does."
   ]
  },
  {
   "cell_type": "markdown",
   "id": "9f76662f-a8d9-4f99-8e3e-c3190e95de4c",
   "metadata": {},
   "source": [
    "Q8. Which type of plot can be used to display data in terms of range?"
   ]
  },
  {
   "cell_type": "markdown",
   "id": "cc58219f-ee39-4c46-8fe0-7fb833e94daa",
   "metadata": {},
   "source": [
    "ANS-A histogram is a chart that uses bars to display the distribution of values in a numeric variable across ranges. The height of each bar represents the frequency of data points within a specific range, called a \"bin\" or \"class"
   ]
  },
  {
   "cell_type": "markdown",
   "id": "d355e2dc-4577-43e2-ad94-7155a969b45f",
   "metadata": {},
   "source": [
    "Q9. Describe the difference between descriptive and inferential statistics. Give an example of each\n",
    "type of statistics and explain how they are used."
   ]
  },
  {
   "cell_type": "markdown",
   "id": "124ef0b0-33aa-4491-929f-708cb7a9c65f",
   "metadata": {},
   "source": [
    "ANS-Descriptive Statistics: Summarize and describe the main features of a data set."
   ]
  },
  {
   "cell_type": "markdown",
   "id": "d35895b9-92b9-4914-a2e7-81cc417eacd5",
   "metadata": {},
   "source": [
    "Example: Calculating the average test score of a class."
   ]
  },
  {
   "cell_type": "markdown",
   "id": "7a930490-4a0e-4b82-adbf-db403d6ed8c2",
   "metadata": {},
   "source": [
    "Usage: Provides a summary and overview of the data collected."
   ]
  },
  {
   "cell_type": "markdown",
   "id": "95df46c2-62e7-4c49-890e-561493852e72",
   "metadata": {},
   "source": [
    "Inferential Statistics: Make predictions or inferences about a larger population based on a sample of data."
   ]
  },
  {
   "cell_type": "markdown",
   "id": "a3947fdb-d561-4242-9e0f-2a250c45f3f7",
   "metadata": {},
   "source": [
    "Example: Determining whether a new medication is effective based on the results of a clinical trial."
   ]
  },
  {
   "cell_type": "markdown",
   "id": "44493201-c656-480f-b87f-423f0ba4e3bf",
   "metadata": {},
   "source": [
    "Usage: Allows for decision-making and predictions about populations from sample data.\n",
    "\n",
    "\n",
    "\n",
    "\n",
    "\n"
   ]
  },
  {
   "cell_type": "markdown",
   "id": "07c91855-c9c6-45bc-9e17-28699685fc2d",
   "metadata": {},
   "source": [
    "Q10. What are some common measures of central tendency and variability used in statistics? Explain\n",
    "how each measure can be used to describe a dataset."
   ]
  },
  {
   "cell_type": "markdown",
   "id": "418d88e7-082e-4bc0-8229-9ba80e722872",
   "metadata": {},
   "source": [
    "ANS-Central tendency measures (mean, median, mode) provide insights into the typical or central value of a dataset."
   ]
  },
  {
   "cell_type": "markdown",
   "id": "2535998f-8870-4838-bfc3-0760ae76b17f",
   "metadata": {},
   "source": [
    "Mean:The mean is the average of all values in a dataset. It is calculated by summing all values and dividing by the number of values."
   ]
  },
  {
   "cell_type": "markdown",
   "id": "3d2e0503-b6db-4be1-a16c-86981885cb2f",
   "metadata": {},
   "source": [
    "Usage: The mean provides a measure of the central value around which data points tend to cluster. It's useful for understanding typical or average values in a dataset."
   ]
  },
  {
   "cell_type": "markdown",
   "id": "3548b56e-f618-4b32-a6c8-e286cf1990e2",
   "metadata": {},
   "source": [
    "Median:The median is the middle value in a sorted, ascending or descending, list of data. If there is an even number of observations, the median is the average of the two middle values."
   ]
  },
  {
   "cell_type": "markdown",
   "id": "63f3989f-52d2-48e3-918b-a3ac90f2b9b2",
   "metadata": {},
   "source": [
    "Usage: The median is less sensitive to extreme values (outliers) than the mean. It gives insight into the central tendency and is particularly useful when the data is skewed or not symmetrically distributed.\n"
   ]
  },
  {
   "cell_type": "markdown",
   "id": "9e4e22a7-d82d-4a5c-9e89-fd18901766f4",
   "metadata": {},
   "source": [
    "Mode:The mode is the value that appears most frequently in a dataset."
   ]
  },
  {
   "cell_type": "markdown",
   "id": "4461e9f7-5fa5-4be0-a6d0-10cede6ca62c",
   "metadata": {},
   "source": [
    "Usage: The mode helps identify the most common or prevalent value(s) in a dataset. It's useful for categorical or nominal data where frequency of occurrence matters."
   ]
  },
  {
   "cell_type": "code",
   "execution_count": null,
   "id": "4be75700-61f2-4d53-b75e-1ed00b8030aa",
   "metadata": {},
   "outputs": [],
   "source": []
  }
 ],
 "metadata": {
  "kernelspec": {
   "display_name": "Python 3 (ipykernel)",
   "language": "python",
   "name": "python3"
  },
  "language_info": {
   "codemirror_mode": {
    "name": "ipython",
    "version": 3
   },
   "file_extension": ".py",
   "mimetype": "text/x-python",
   "name": "python",
   "nbconvert_exporter": "python",
   "pygments_lexer": "ipython3",
   "version": "3.10.8"
  }
 },
 "nbformat": 4,
 "nbformat_minor": 5
}
