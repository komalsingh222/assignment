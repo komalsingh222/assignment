{
 "cells": [
  {
   "cell_type": "markdown",
   "id": "991426c2-6044-4f59-9173-ec6cc33ab914",
   "metadata": {},
   "source": [
    "Q1. What is a database? Differentiate between SQL and NoSQL databases."
   ]
  },
  {
   "cell_type": "markdown",
   "id": "b8e280f5-5a92-4d04-b2d4-559abae08071",
   "metadata": {},
   "source": [
    " ANS-A database is a structured collection of data, typically stored electronically in a computer system. A database management system (DBMS) is a software application that interacts with the user, other applications, and the database itself to capture and analyze data. A DBMS makes it possible for users to create, read, update, and delete data in a database.\n",
    "                                                         SQL databases are relational, and NoSQL databases are non-relational. SQL databases use structured query language (SQL) and have a predefined schema. NoSQL databases have dynamic schemas for unstructured data. SQL databases are vertically scalable, while NoSQL databases are horizontally scalable."
   ]
  },
  {
   "cell_type": "markdown",
   "id": "7a1a0f3e-4640-4283-8521-fe71b9e2d798",
   "metadata": {},
   "source": [
    "Q2. What is DDL? Explain why CREATE, DROP, ALTER, and TRUNCATE are used with an example."
   ]
  },
  {
   "cell_type": "markdown",
   "id": "831b4589-12b3-4605-8f7a-415fae37a029",
   "metadata": {},
   "source": [
    "ANS- DDL stands for Data Definition Language. It is a computer language used to build and modify the structure of database objects. \n",
    "\n",
    "CREATE, DROP, ALTER, and TRUNCATE are all SQL commands that are used to manage tables in a database.\n",
    "\n"
   ]
  },
  {
   "cell_type": "code",
   "execution_count": 5,
   "id": "ed5ed08b-6de5-4616-a2c5-285d02c462ec",
   "metadata": {},
   "outputs": [],
   "source": [
    "#CREATE  is used to create a new Table\n",
    "\n",
    "CREATE TABLE customers (\n",
    "  id INT PRIMARY KEY,\n",
    "  name VARCHAR(100),\n",
    "  email VARCHAR(100)\n",
    ");\n"
   ]
  },
  {
   "cell_type": "code",
   "execution_count": null,
   "id": "c71634c7-0d58-4a40-9c4d-8d3229333102",
   "metadata": {},
   "outputs": [],
   "source": [
    "#DROP is used to delete an existing table.\n",
    "\n",
    "\n",
    "DROP TABLE customers;"
   ]
  },
  {
   "cell_type": "code",
   "execution_count": null,
   "id": "8edd3294-39b1-4272-b229-fddd0daf05f6",
   "metadata": {},
   "outputs": [],
   "source": [
    "#ALTER is used to modify the structure of an existing table.\n",
    "\n",
    "AFTER TABLE customers ADD COLUMN age INT;"
   ]
  },
  {
   "cell_type": "code",
   "execution_count": null,
   "id": "acc53055-4ab7-424c-8495-c0e237bb0125",
   "metadata": {},
   "outputs": [],
   "source": [
    "#TRUNCATE is used to delete all of the data from an existing table\n",
    "\n",
    "TRUNCATE TABLE customers;"
   ]
  },
  {
   "cell_type": "markdown",
   "id": "d4159ef8-b7b5-4bea-90ae-fbc63fa64919",
   "metadata": {},
   "source": [
    "Q3. What is DML? Explain INSERT, UPDATE, and DELETE with an example."
   ]
  },
  {
   "cell_type": "markdown",
   "id": "8b77f971-a65d-4425-81dd-704be5525380",
   "metadata": {},
   "source": [
    "ANS-DML stands for Data Manipulation Language. It's a computer programming language that allows users to add, delete, and update data in a database. \n"
   ]
  },
  {
   "cell_type": "code",
   "execution_count": 7,
   "id": "158d49fe-9799-4e8a-aa64-bd1129c39940",
   "metadata": {},
   "outputs": [],
   "source": [
    "#INSERT- used to add new records or rows into aq table.\n",
    "\n",
    "INSERT INTO Employees(EmployeeID , FirstName , lastName , Salary)\n",
    "VALUES(101, 'komal', 'singh' , 50000);\n"
   ]
  },
  {
   "cell_type": "code",
   "execution_count": null,
   "id": "7bec3de2-c787-4c67-ae9b-1f27d077f4b2",
   "metadata": {},
   "outputs": [],
   "source": [
    "#UPDATE- Modifies existing records in a table.\n",
    "\n",
    "UPDATE Employees\n",
    "SET salary = 55000\n",
    "WHERE EmployeeID = 101"
   ]
  },
  {
   "cell_type": "code",
   "execution_count": null,
   "id": "d41a95bc-27d4-456b-9aa9-ce3b0bff89fd",
   "metadata": {},
   "outputs": [],
   "source": [
    "#DELETE-Remove record from abtable based on a specified condition\n",
    "\n",
    "DELETE FROM Employees\n",
    "WHERE EmployeesID = 101"
   ]
  },
  {
   "cell_type": "markdown",
   "id": "1fe4602f-5d2e-4a0f-bac4-1201d54845f0",
   "metadata": {},
   "source": [
    "Q4. What is DQL? Explain SELECT with an example."
   ]
  },
  {
   "cell_type": "markdown",
   "id": "15886b91-495f-4476-bf7c-538f43671593",
   "metadata": {},
   "source": [
    "ANS-DQL stands for Data Query Language. It is a sublanguage of SQL used to query and retrieve data from existing database tables."
   ]
  },
  {
   "cell_type": "code",
   "execution_count": null,
   "id": "48fb33a6-950f-41e9-960c-202d37607fec",
   "metadata": {},
   "outputs": [],
   "source": [
    "#The SELECT statement is used for querying data\n",
    "\n",
    "\n",
    "SELECT first_name , last_name\n",
    "FROM employees \n",
    "WHERE department = 'IT';"
   ]
  },
  {
   "cell_type": "markdown",
   "id": "2f1a8412-5e09-47fc-946f-60f78b6df19a",
   "metadata": {},
   "source": [
    "Q5. Explain Primary Key and Foreign Key."
   ]
  },
  {
   "cell_type": "markdown",
   "id": "942f23cd-4f6b-4473-9cf9-99e2683933ae",
   "metadata": {},
   "source": [
    "ANS-Primary keys are used to uniquely identify and index each row within a single table. Foreign keys are used to link rows in two different tables such that a row can only be added or updated in table_a if the value in its foreign key column exists in the relevant column of table_b"
   ]
  },
  {
   "cell_type": "markdown",
   "id": "e407260e-232e-4427-a4df-f97bfd2343b0",
   "metadata": {},
   "source": [
    "Q6. Write a python code to connect MySQL to python. Explain the cursor() and execute() method."
   ]
  },
  {
   "cell_type": "code",
   "execution_count": null,
   "id": "b4088afb-d5d7-4334-9717-4d6372431ddd",
   "metadata": {},
   "outputs": [],
   "source": [
    "import mysql.connector\n",
    "\n",
    "#Create a connection object.\n",
    "mydb = mysql.connector.connect(\n",
    "    host = 'localhost',\n",
    "    user = 'yourusername',\n",
    "    password = 'yourpassword',\n",
    "    database = 'yourdatabase'\n",
    ")\n",
    "\n",
    "#Create a cursor object\n",
    "mycursor = mydb.cursor()\n",
    "\n",
    "#Create a SQL query\n",
    "mycursor.execute(\"SELECT *FROM customers\")\n",
    "\n",
    "\n",
    "#Get the results of the query \n",
    "myresult = mycursor.fetchall()\n",
    " \n",
    "#print the result\n",
    "for x in myresult:\n",
    "    print(x)\n",
    "    \n",
    "    \n",
    "#Close the connection\n",
    "mydb.close() \n"
   ]
  },
  {
   "cell_type": "markdown",
   "id": "947f39da-61b6-4eea-bffc-a315bb5e1eec",
   "metadata": {},
   "source": [
    "The cursor() method creates a cursor object that can be used to execute SQL queries. The execute() method executes a SQL query and returns the results."
   ]
  },
  {
   "cell_type": "markdown",
   "id": "511ed033-5cad-4e49-a0a0-d29e073ae3b9",
   "metadata": {},
   "source": [
    "Q7. Give the order of execution of SQL clauses in an SQL query."
   ]
  },
  {
   "cell_type": "markdown",
   "id": "77e906df-f4a4-46f6-b138-5083f1fb6e86",
   "metadata": {},
   "source": [
    "The order of execution of SQL clauses in an SQL query is as follows:\n",
    "FROM: clause: This clause specifies the tables from which the data will be retrieved.\n",
    "WHERE: clause: This clause filters the data based on specific criteria.\n",
    "GROUP BY: clause: This clause groups the data based on one or more columns.\n",
    "HAVING: clause: This clause filters the grouped data based on specific criteria.\n",
    "SELECT: clause: This clause specifies the columns that will be returned in the query results.\n",
    "DISTINCT: clause: This clause removes duplicate rows from the query results.\n",
    "ORDER BY: clause: This clause sorts the data in ascending or descending order.\n",
    "LIMIT: clause: This clause limits the number of rows that will be returned in the query results."
   ]
  },
  {
   "cell_type": "code",
   "execution_count": null,
   "id": "a23dd5ff-4b04-468b-a81a-c75fde43462a",
   "metadata": {},
   "outputs": [],
   "source": []
  }
 ],
 "metadata": {
  "kernelspec": {
   "display_name": "Python 3 (ipykernel)",
   "language": "python",
   "name": "python3"
  },
  "language_info": {
   "codemirror_mode": {
    "name": "ipython",
    "version": 3
   },
   "file_extension": ".py",
   "mimetype": "text/x-python",
   "name": "python",
   "nbconvert_exporter": "python",
   "pygments_lexer": "ipython3",
   "version": "3.10.8"
  }
 },
 "nbformat": 4,
 "nbformat_minor": 5
}
