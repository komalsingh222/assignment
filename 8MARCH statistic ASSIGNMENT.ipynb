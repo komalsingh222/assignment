{
 "cells": [
  {
   "cell_type": "markdown",
   "id": "6f6b4955-fa24-4b10-a586-a029340e257b",
   "metadata": {},
   "source": [
    "Q1. What is the Probability density function?"
   ]
  },
  {
   "cell_type": "markdown",
   "id": "7a58d6fb-806e-429c-b56e-ff43d714c5db",
   "metadata": {},
   "source": [
    "ANS-It is a distribution of continious random variable."
   ]
  },
  {
   "cell_type": "markdown",
   "id": "358b4c3a-7bc3-4a79-b1e3-144d2efc578a",
   "metadata": {},
   "source": [
    "Q2. What are the types of Probability distribution?"
   ]
  },
  {
   "cell_type": "markdown",
   "id": "349aa11a-9f16-4ea3-9c28-03257db29ea9",
   "metadata": {},
   "source": [
    "ANS- Type of Probability distribution:-"
   ]
  },
  {
   "cell_type": "markdown",
   "id": "5cf7e48f-f844-4cb8-9c90-7ef85c14ff0d",
   "metadata": {},
   "source": [
    "1.Normal and Gaussion Distribution , 2.Bernoulli Distribution , 3. Uniform Distribution , 4.Poisson Distribution ,5. Log Normal Distribution , 6.Binomial Distribution"
   ]
  },
  {
   "cell_type": "markdown",
   "id": "3a38ac2f-979e-4e49-ac5c-c96b43824849",
   "metadata": {},
   "source": [
    "Q3. Write a Python function to calculate the probability density function of a normal distribution with\n",
    "given mean and standard deviation at a given point."
   ]
  },
  {
   "cell_type": "code",
   "execution_count": 2,
   "id": "f4c52973-cadc-4922-8046-3e1f45e8b9b1",
   "metadata": {},
   "outputs": [
    {
     "name": "stdout",
     "output_type": "stream",
     "text": [
      "The PDF value at x = 0 is 0.3989422804014327\n"
     ]
    }
   ],
   "source": [
    "import math\n",
    "\n",
    "def normal_pdf(x, mean, std_dev):\n",
    "    \"\"\"\n",
    "    Calculate the probability density function of a normal distribution.\n",
    "    \n",
    "    Parameters:\n",
    "    x (float): The point at which to evaluate the PDF.\n",
    "    mean (float): The mean of the distribution.\n",
    "    std_dev (float): The standard deviation of the distribution.\n",
    "    \n",
    "    Returns:\n",
    "    float: The value of the PDF at point x.\n",
    "    \"\"\"\n",
    "    coefficient = 1 / (std_dev * math.sqrt(2 * math.pi))\n",
    "    exponent = -((x - mean) ** 2) / (2 * (std_dev ** 2))\n",
    "    return coefficient * math.exp(exponent)\n",
    "\n",
    "# Example usage:\n",
    "x_value = 0\n",
    "mean_value = 0\n",
    "std_dev_value = 1\n",
    "pdf_value = normal_pdf(x_value, mean_value, std_dev_value)\n",
    "print(f\"The PDF value at x = {x_value} is {pdf_value}\")\n"
   ]
  },
  {
   "cell_type": "markdown",
   "id": "9fc7b6c2-aeb0-4af8-b352-eec20d8f73c4",
   "metadata": {},
   "source": [
    "Q4. What are the properties of Binomial distribution? Give two examples of events where binomial\n",
    "distribution can be applied."
   ]
  },
  {
   "cell_type": "markdown",
   "id": "0a81b3af-c95e-4978-816e-23fbd89f11ca",
   "metadata": {},
   "source": [
    "ANS-1.Every experiments is binary"
   ]
  },
  {
   "cell_type": "markdown",
   "id": "3387db21-3cc8-4a53-8731-b626bc8e828a",
   "metadata": {},
   "source": [
    "2.Discrete Random variable"
   ]
  },
  {
   "cell_type": "markdown",
   "id": "23f5c44d-6763-4fa2-9713-c4e760af4885",
   "metadata": {},
   "source": [
    "Example:- 1. Tossing a coin 10 times"
   ]
  },
  {
   "cell_type": "markdown",
   "id": "5ab83de8-756f-4532-b74e-8490ebe0e1a7",
   "metadata": {},
   "source": [
    "2.Quality control in manufacturing"
   ]
  },
  {
   "cell_type": "markdown",
   "id": "423ef013-8c06-4c01-81dc-51fece0c870d",
   "metadata": {},
   "source": [
    "Q5. Generate a random sample of size 1000 from a binomial distribution with probability of success 0.4\n",
    "and plot a histogram of the results using matplotlib."
   ]
  },
  {
   "cell_type": "code",
   "execution_count": 1,
   "id": "bf34b930-85e9-4ebc-bdcb-117f5cb63bb8",
   "metadata": {},
   "outputs": [
    {
     "data": {
      "image/png": "[encoded data removed]",
      "text/plain": [
       "<Figure size 640x480 with 1 Axes>"
      ]
     },
     "metadata": {},
     "output_type": "display_data"
    }
   ],
   "source": [
    "import numpy as np\n",
    "import matplotlib.pyplot as plt\n",
    "\n",
    "# Parameters\n",
    "n = 10  # Number of trials\n",
    "p = 0.4  # Probability of success\n",
    "size = 1000  # Sample size\n",
    "\n",
    "# Generate random sample from binomial distribution\n",
    "sample = np.random.binomial(n, p, size)\n",
    "\n",
    "# Plot the histogram\n",
    "plt.hist(sample, bins=np.arange(min(sample), max(sample) + 2) - 0.5, density=True, alpha=0.75, color='blue', edgecolor='black')\n",
    "plt.title('Histogram of Binomial Distribution (n=10, p=0.4)')\n",
    "plt.xlabel('Number of Successes')\n",
    "plt.ylabel('Frequency')\n",
    "plt.grid(True)\n",
    "plt.show()\n"
   ]
  },
  {
   "cell_type": "markdown",
   "id": "55c8c757-c03c-4672-a47a-a9ccd275aa46",
   "metadata": {},
   "source": [
    "Q6. Write a Python function to calculate the cumulative distribution function of a Poisson distribution\n",
    "with given mean at a given point."
   ]
  },
  {
   "cell_type": "code",
   "execution_count": 2,
   "id": "54c4cb1a-4ef7-4f78-acf8-c3bb947605f9",
   "metadata": {},
   "outputs": [
    {
     "name": "stdout",
     "output_type": "stream",
     "text": [
      "The CDF value at x = 5 with mean 3.0 is 0.9160820579686966\n"
     ]
    }
   ],
   "source": [
    "import math\n",
    "\n",
    "def poisson_cdf(x, lambda_):\n",
    "    \"\"\"\n",
    "    Calculate the cumulative distribution function (CDF) of a Poisson distribution.\n",
    "    \n",
    "    Parameters:\n",
    "    x (int): The point at which to evaluate the CDF (must be a non-negative integer).\n",
    "    lambda_ (float): The mean of the Poisson distribution.\n",
    "    \n",
    "    Returns:\n",
    "    float: The value of the CDF at point x.\n",
    "    \"\"\"\n",
    "    if x < 0:\n",
    "        return 0.0\n",
    "    cdf = 0.0\n",
    "    for k in range(0, x + 1):\n",
    "        cdf += (math.exp(-lambda_) * lambda_**k) / math.factorial(k)\n",
    "    return cdf\n",
    "\n",
    "# Example usage\n",
    "x = 5\n",
    "lambda_ = 3.0\n",
    "cdf_value = poisson_cdf(x, lambda_)\n",
    "print(f\"The CDF value at x = {x} with mean {lambda_} is {cdf_value}\")\n"
   ]
  },
  {
   "cell_type": "markdown",
   "id": "124bd1f8-64dc-466e-90ce-eb6b90afd424",
   "metadata": {},
   "source": [
    "Q7. How Binomial distribution different from Poisson distribution?"
   ]
  },
  {
   "cell_type": "markdown",
   "id": "d8584643-5acf-4719-a77e-1f661ae76f87",
   "metadata": {},
   "source": [
    "ANS-The main differences between binomial and Poisson distributions are the type of experiment they apply to, the number of trials, and the probability of success"
   ]
  },
  {
   "cell_type": "markdown",
   "id": "d224ea20-c910-482c-b4f6-00ea7839b969",
   "metadata": {},
   "source": [
    "Q8. Generate a random sample of size 1000 from a Poisson distribution with mean 5 and calculate the\n",
    "sample mean and variance."
   ]
  },
  {
   "cell_type": "code",
   "execution_count": 3,
   "id": "ef65793a-ea21-4232-8968-0f2aa17b09da",
   "metadata": {},
   "outputs": [
    {
     "name": "stdout",
     "output_type": "stream",
     "text": [
      "Sample Mean: 4.905\n",
      "Sample Variance: 4.869975\n"
     ]
    }
   ],
   "source": [
    "import numpy as np\n",
    "\n",
    "# Parameters\n",
    "lambda_ = 5  # Mean of the Poisson distribution\n",
    "size = 1000  # Sample size\n",
    "\n",
    "# Generate random sample from Poisson distribution\n",
    "sample = np.random.poisson(lambda_, size)\n",
    "\n",
    "# Calculate sample mean\n",
    "sample_mean = np.mean(sample)\n",
    "\n",
    "# Calculate sample variance\n",
    "sample_variance = np.var(sample)\n",
    "\n",
    "print(f\"Sample Mean: {sample_mean}\")\n",
    "print(f\"Sample Variance: {sample_variance}\")\n"
   ]
  },
  {
   "cell_type": "markdown",
   "id": "df202b4e-db09-402b-92fc-f26725ab6cac",
   "metadata": {},
   "source": [
    "Q9. How mean and variance are related in Binomial distribution and Poisson distribution?"
   ]
  },
  {
   "cell_type": "markdown",
   "id": "3233d423-ba67-477d-b239-6e7e731909a0",
   "metadata": {},
   "source": [
    "ANS-Binomial distribution\n",
    "The mean is always greater than the variance. The mean is equal to np, and the variance is equal to np(1-p). The variance is greatest at a proportion of 0.5 and decreases on either side. \n",
    " \n",
    "Poisson distribution\n",
    "The mean and variance are equal to each other. The mean and variance are both equal to the rate parameter lambda. \n"
   ]
  },
  {
   "cell_type": "markdown",
   "id": "39c5a0b9-b1e4-45fa-982b-88ee92647cd3",
   "metadata": {},
   "source": [
    "Q10. In normal distribution with respect to mean position, where does the least frequent data appear?"
   ]
  },
  {
   "cell_type": "markdown",
   "id": "496e8175-18cb-45f0-8ccd-846733b505ab",
   "metadata": {},
   "source": [
    "ANS-n a normal distribution, which is symmetric and bell-shaped, the data is distributed around the mean. The key points to understand regarding the frequency of data in relation to the mean are:\n",
    "\n",
    "Mean Position: The mean is the central point of the distribution. The highest frequency of data points (i.e., the mode) occurs at the mean.\n",
    "\n",
    "Least Frequent Data:\n",
    "\n",
    "The least frequent data points appear in the tails of the distribution, farthest from the mean.\n",
    "In a normal distribution, as you move further away from the mean in either direction (towards the extreme values), the frequency of data points decreases."
   ]
  },
  {
   "cell_type": "code",
   "execution_count": null,
   "id": "38fa3ce0-cfd3-4601-bac7-612ced5d0eb8",
   "metadata": {},
   "outputs": [],
   "source": []
  }
 ],
 "metadata": {
  "kernelspec": {
   "display_name": "Python 3 (ipykernel)",
   "language": "python",
   "name": "python3"
  },
  "language_info": {
   "codemirror_mode": {
    "name": "ipython",
    "version": 3
   },
   "file_extension": ".py",
   "mimetype": "text/x-python",
   "name": "python",
   "nbconvert_exporter": "python",
   "pygments_lexer": "ipython3",
   "version": "3.10.8"
  }
 },
 "nbformat": 4,
 "nbformat_minor": 5
}
