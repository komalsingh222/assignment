{
 "cells": [
  {
   "cell_type": "markdown",
   "id": "5c20d1af-7cde-4b17-9d7b-6fb0f12bddcc",
   "metadata": {},
   "source": [
    "#QNO1-Create a  python program to sort the given list of tuples based on integer value using a lambda function."
   ]
  },
  {
   "cell_type": "code",
   "execution_count": 1,
   "id": "8feb6e02-1f1f-4acb-86bf-cdb06bfa4e3e",
   "metadata": {},
   "outputs": [],
   "source": [
    "tuples_list =[('Sachin Tendulker',34357),('Ricky Ponting',27483),('Jack Kallis',25534),('Virat Kohli',24936)]"
   ]
  },
  {
   "cell_type": "code",
   "execution_count": 2,
   "id": "49df833b-38f4-4207-9a12-02c5c7fbd83b",
   "metadata": {},
   "outputs": [
    {
     "name": "stdout",
     "output_type": "stream",
     "text": [
      "[('Virat Kohli', 24936), ('Jack Kallis', 25534), ('Ricky Ponting', 27483), ('Sachin Tendulker', 34357)]\n"
     ]
    }
   ],
   "source": [
    "tuples_list.sort(key = lambda x : x[1])\n",
    "print(tuples_list)"
   ]
  },
  {
   "cell_type": "markdown",
   "id": "5af6b4be-97a0-4e12-9a10-ecc1363ac2ee",
   "metadata": {},
   "source": [
    "#QNO2-Write a python program to find the squares of all the number in the given list of integers using lambda and map functions."
   ]
  },
  {
   "cell_type": "code",
   "execution_count": 6,
   "id": "5fb8cbbf-d216-4420-b438-e784db75a337",
   "metadata": {},
   "outputs": [
    {
     "data": {
      "text/plain": [
       "[1, 4, 9, 16, 25, 36, 49, 64, 81, 100]"
      ]
     },
     "execution_count": 6,
     "metadata": {},
     "output_type": "execute_result"
    }
   ],
   "source": [
    "l= [1,2,3,4,5,6,7,8,9,10]\n",
    "\n",
    "list(map(lambda x : x**2 ,l ))\n"
   ]
  },
  {
   "cell_type": "markdown",
   "id": "6d8c4175-ff92-4487-825f-783fff54df7c",
   "metadata": {},
   "source": [
    "#QNO3-Write a python program  to convert the given list of integers into a tuples of strings.Use map and lambda functions."
   ]
  },
  {
   "cell_type": "code",
   "execution_count": 8,
   "id": "c3e77dd5-5016-4fac-96aa-431a27d2a043",
   "metadata": {},
   "outputs": [
    {
     "data": {
      "text/plain": [
       "['1', '2', '3', '4', '5', '6', '7', '8', '9', '10']"
      ]
     },
     "execution_count": 8,
     "metadata": {},
     "output_type": "execute_result"
    }
   ],
   "source": [
    "s = [1,2,3,4,5,6,7,8,9,10]\n",
    "\n",
    "list(map(lambda x:str(x), s))\n",
    "\n"
   ]
  },
  {
   "cell_type": "markdown",
   "id": "67f91837-431f-4734-846e-8fd45a577fe9",
   "metadata": {},
   "source": [
    "#QNO4-Write a python program using reduce function to compute the product of a list containing numbers from 1 to 25."
   ]
  },
  {
   "cell_type": "code",
   "execution_count": 16,
   "id": "eeb0e365-42f9-490a-92da-4ceddc2112a4",
   "metadata": {},
   "outputs": [],
   "source": [
    "from functools import reduce"
   ]
  },
  {
   "cell_type": "code",
   "execution_count": 29,
   "id": "26eca0bf-3795-4fb4-ac74-232546d9f264",
   "metadata": {},
   "outputs": [
    {
     "data": {
      "text/plain": [
       "15511210043330985984000000"
      ]
     },
     "execution_count": 29,
     "metadata": {},
     "output_type": "execute_result"
    }
   ],
   "source": [
    "l = [1,2,3,4,5,6,7,8,9,10,11,12,13,14,15,16,17,18,19,20,21,22,23,24,25]\n",
    "\n",
    "reduce(lambda x, y : x*y ,l)"
   ]
  },
  {
   "cell_type": "markdown",
   "id": "f4344e78-dbf4-4d9d-a325-556496e7d9b7",
   "metadata": {},
   "source": [
    "#QNO5-Write a python program to filter the numbers  in a given list that are divisible by 2 and 3 using the filter function."
   ]
  },
  {
   "cell_type": "code",
   "execution_count": 25,
   "id": "f86b4743-75aa-450b-a271-a6f2c5b2de25",
   "metadata": {},
   "outputs": [
    {
     "data": {
      "text/plain": [
       "[2, 6, 60, 90, 120, 46]"
      ]
     },
     "execution_count": 25,
     "metadata": {},
     "output_type": "execute_result"
    }
   ],
   "source": [
    "l = [2,3,6,9,27,60,90,120,55,46]\n",
    "\n",
    "list(filter(lambda x : x%2==0,l))\n",
    "\n",
    " \n"
   ]
  },
  {
   "cell_type": "code",
   "execution_count": 26,
   "id": "16382eb2-7867-4ecf-95a7-62577e401c3b",
   "metadata": {},
   "outputs": [
    {
     "data": {
      "text/plain": [
       "[3, 6, 9, 27, 60, 90, 120]"
      ]
     },
     "execution_count": 26,
     "metadata": {},
     "output_type": "execute_result"
    }
   ],
   "source": [
    "list(filter(lambda x : x%3==0,l))"
   ]
  },
  {
   "cell_type": "markdown",
   "id": "851d9fab-051d-410a-a79f-c2831c270410",
   "metadata": {},
   "source": [
    "#QNO6-Write a python program to find palindromes in the given list of strings using lamnda and filter function."
   ]
  },
  {
   "cell_type": "code",
   "execution_count": 27,
   "id": "fe0c67a2-a785-4066-ad5a-f28021c76e3c",
   "metadata": {},
   "outputs": [
    {
     "data": {
      "text/plain": [
       "['aba', 'php', 'radar', 'level']"
      ]
     },
     "execution_count": 27,
     "metadata": {},
     "output_type": "execute_result"
    }
   ],
   "source": [
    "string_list =['python','aba','php','radar','level']\n",
    "\n",
    "list(filter(lambda x: (x == \"\".join(reversed(x))),string_list))"
   ]
  },
  {
   "cell_type": "code",
   "execution_count": null,
   "id": "ddbe4ed1-729a-4c87-9ce8-771c9c48934c",
   "metadata": {},
   "outputs": [],
   "source": []
  }
 ],
 "metadata": {
  "kernelspec": {
   "display_name": "Python 3 (ipykernel)",
   "language": "python",
   "name": "python3"
  },
  "language_info": {
   "codemirror_mode": {
    "name": "ipython",
    "version": 3
   },
   "file_extension": ".py",
   "mimetype": "text/x-python",
   "name": "python",
   "nbconvert_exporter": "python",
   "pygments_lexer": "ipython3",
   "version": "3.10.8"
  }
 },
 "nbformat": 4,
 "nbformat_minor": 5
}
