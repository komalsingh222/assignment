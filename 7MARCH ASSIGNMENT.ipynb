{
 "cells": [
  {
   "cell_type": "markdown",
   "id": "6810e9aa-78cc-4f62-bd8a-ac3c3397f810",
   "metadata": {},
   "source": [
    "Q1. What are the three measures of central tendency?"
   ]
  },
  {
   "cell_type": "markdown",
   "id": "e0551b96-87b7-4208-8490-d3fe20b63ee2",
   "metadata": {},
   "source": [
    "ANS-Mean , Median , Mode"
   ]
  },
  {
   "cell_type": "markdown",
   "id": "0139e5c9-6176-46a1-8150-3cb7702cf7c6",
   "metadata": {},
   "source": [
    "Q2. What is the difference between the mean, median, and mode? How are they used to measure the\n",
    "central tendency of a dataset?"
   ]
  },
  {
   "cell_type": "markdown",
   "id": "a094279b-0450-479b-9e9b-b87d3be8f2d8",
   "metadata": {},
   "source": [
    "ANS-The mean, median, and mode are all measures of central tendency used to describe the center point of a dataset, but they each capture different aspects of it:"
   ]
  },
  {
   "cell_type": "markdown",
   "id": "174760fa-ca2d-4f14-8a5e-a38068f89627",
   "metadata": {},
   "source": [
    "1.Mean: The mean, or average, is calculated by adding up all the values in a dataset and then dividing by the number of values. It’s a good measure when the data is symmetrically distributed without outliers. For example, if you have the numbers 2, 3, 5, 7, and 10, the mean is \n",
    "(\n",
    "2\n",
    "+\n",
    "3\n",
    "+\n",
    "5\n",
    "+\n",
    "7\n",
    "+\n",
    "10\n",
    ")\n",
    "/\n",
    "5\n",
    "=\n",
    "27\n",
    "/\n",
    "5\n",
    "=\n",
    "5.4\n",
    "(2+3+5+7+10)/5=27/5=5.4."
   ]
  },
  {
   "cell_type": "markdown",
   "id": "7082b391-e491-4394-b799-c982698ac057",
   "metadata": {},
   "source": [
    "Usage:Mean: Provides a good overall summary of the data when the distribution is normal. It’s commonly used in various statistical analyses and can be sensitive to outliers."
   ]
  },
  {
   "cell_type": "markdown",
   "id": "15898775-f43e-4d29-a52d-ea66c453932c",
   "metadata": {},
   "source": [
    "2.Median: The median is the middle value of a dataset when the values are sorted in ascending or descending order. If there is an even number of values, the median is the average of the two middle numbers. It’s useful for datasets with outliers or skewed distributions because it’s not affected by extremely high or low values. For example, in the sorted dataset 2, 3, 5, 7, and 10, the median is 5. If the dataset were 2, 3, 5, 7, 10, and 12, the median would be \n",
    "(\n",
    "5\n",
    "+\n",
    "7\n",
    ")\n",
    "/\n",
    "2\n",
    "=\n",
    "6\n",
    "(5+7)/2=6."
   ]
  },
  {
   "cell_type": "markdown",
   "id": "7ef2ada6-266e-42d4-b08c-45f32c39c5f0",
   "metadata": {},
   "source": [
    "Usage: Provides a better measure of central tendency for skewed distributions or datasets with outliers. It’s useful when you need a measure that reflects the middle of the data without being distorted by extreme values."
   ]
  },
  {
   "cell_type": "markdown",
   "id": "36be0e7a-d69e-42aa-bb0a-2afba434783b",
   "metadata": {},
   "source": [
    "3.Mode: The mode is the value that appears most frequently in a dataset. There can be more than one mode (bimodal or multimodal) if multiple values appear with the same highest frequency. It’s useful for categorical data or when identifying the most common value. For example, in the dataset 2, 3, 3, 5, 7, the mode is 3, as it appears more frequently than other values."
   ]
  },
  {
   "cell_type": "markdown",
   "id": "705b1705-d49b-473a-bc03-a597848bfe8e",
   "metadata": {},
   "source": [
    "Usage: Useful for identifying the most common value(s) and is often used in categorical data analysis."
   ]
  },
  {
   "cell_type": "markdown",
   "id": "0ae04544-c67b-49ac-872a-394c07fff488",
   "metadata": {},
   "source": [
    "Q3. Measure the three measures of central tendency for the given height data:"
   ]
  },
  {
   "cell_type": "markdown",
   "id": "d3dca536-8604-49f4-911f-8df00fafc707",
   "metadata": {},
   "source": [
    "[178,177,176,177,178.2,178,175,179,180,175,178.9,176.2,177,172.5,178,176.5]"
   ]
  },
  {
   "cell_type": "code",
   "execution_count": 14,
   "id": "7a215683-c104-4982-b5c7-a1d048ad564d",
   "metadata": {},
   "outputs": [
    {
     "name": "stdout",
     "output_type": "stream",
     "text": [
      "Mean: 177.01875\n",
      "Median: 177.0\n"
     ]
    }
   ],
   "source": [
    "import numpy as np\n",
    "data = [178,177,176,177,178.2,178,175,179,180,175,178.9,176.2,177,172.5,178,176.5]\n",
    "mean = np.mean(data)\n",
    "print(\"Mean:\",mean)\n",
    "#calculate median\n",
    "median = np.median(data)\n",
    "print(\"Median:\",median)\n"
   ]
  },
  {
   "cell_type": "code",
   "execution_count": 17,
   "id": "2b364010-de12-4a14-81a1-b74c90a09c7d",
   "metadata": {},
   "outputs": [
    {
     "name": "stdout",
     "output_type": "stream",
     "text": [
      "Mode: ModeResult(mode=array([177.]), count=array([3]))\n"
     ]
    },
    {
     "name": "stderr",
     "output_type": "stream",
     "text": [
      "/tmp/ipykernel_77/1764527910.py:5: FutureWarning: Unlike other reduction functions (e.g. `skew`, `kurtosis`), the default behavior of `mode` typically preserves the axis it acts along. In SciPy 1.11.0, this behavior will change: the default value of `keepdims` will become False, the `axis` over which the statistic is taken will be eliminated, and the value None will no longer be accepted. Set `keepdims` to True or False to avoid this warning.\n",
      "  mode = stats.mode(data)\n"
     ]
    }
   ],
   "source": [
    "from scipy import stats\n",
    "data = [178,177,176,177,178.2,178,175,179,180,175,178.9,176.2,177,172.5,178,176.5]\n",
    "\n",
    "#Calculate mode \n",
    "mode = stats.mode(data)\n",
    "print(\"Mode:\",mode)"
   ]
  },
  {
   "cell_type": "markdown",
   "id": "340bce05-368c-40b6-b6bb-9ecaaa7e76db",
   "metadata": {},
   "source": [
    "Q4. Find the standard deviation for the given data:"
   ]
  },
  {
   "cell_type": "markdown",
   "id": "30a6256a-75a2-4f8c-94a1-a84270376a09",
   "metadata": {},
   "source": [
    "[178,177,176,177,178.2,178,175,179,180,175,178.9,176.2,177,172.5,178,176.5]"
   ]
  },
  {
   "cell_type": "code",
   "execution_count": 7,
   "id": "0c976772-ac41-4616-a5d8-eaa8cdbe09a9",
   "metadata": {},
   "outputs": [
    {
     "name": "stdout",
     "output_type": "stream",
     "text": [
      "standard Deviation: 1.7885814036548633\n"
     ]
    }
   ],
   "source": [
    "import numpy as np\n",
    "#Data set\n",
    "data=[178,177,176,177,178.2,178,175,179,180,175,178.9,176.2,177,172.5,178,176.5]\n",
    "\n",
    "#calculate standard deviation\n",
    "std_dev = np.std(data)\n",
    "print(\"standard Deviation:\",std_dev)"
   ]
  },
  {
   "cell_type": "markdown",
   "id": "be01d474-829b-4c90-8152-e94d6bf9200a",
   "metadata": {},
   "source": [
    "Q5. How are measures of dispersion such as range, variance, and standard deviation used to describe\n",
    "the spread of a dataset? Provide an example."
   ]
  },
  {
   "cell_type": "markdown",
   "id": "984788ca-ae82-44d7-9e4d-9e44eff6b58f",
   "metadata": {},
   "source": [
    "ANS-Measures of dispersion, such as range, variance, and standard deviation, are crucial for understanding the spread or variability of a dataset. They help to quantify how much the data points in a set differ from each other and from the mean, giving insight into the consistency or variability of the data. "
   ]
  },
  {
   "cell_type": "code",
   "execution_count": 21,
   "id": "7fca9092-f536-4397-9c56-0c345c1264e2",
   "metadata": {},
   "outputs": [],
   "source": [
    "import numpy as np\n",
    "data = np.array([3, 7, 8, 10, 15])"
   ]
  },
  {
   "cell_type": "code",
   "execution_count": 34,
   "id": "4288fc4a-ca34-4029-a769-6ea2ed0538c3",
   "metadata": {},
   "outputs": [
    {
     "name": "stdout",
     "output_type": "stream",
     "text": [
      "Range: 12\n",
      "Variance: 15.440000000000001\n",
      "Standard Deviation: 3.9293765408777004\n"
     ]
    }
   ],
   "source": [
    "#Range\n",
    "data_range = np.max(data) - np.min(data)\n",
    "print(\"Range:\",data_range) \n",
    "\n",
    "#Variance\n",
    "variance = np.var(data)\n",
    "print(\"Variance:\",variance)\n",
    "\n",
    "#standard deviation\n",
    "std_dev = np.std(data)\n",
    "print(\"Standard Deviation:\",std_dev)\n"
   ]
  },
  {
   "cell_type": "markdown",
   "id": "14861d56-70e3-4474-9f28-42db8dbb3523",
   "metadata": {},
   "source": [
    "Q6. What is a Venn diagram?"
   ]
  },
  {
   "cell_type": "markdown",
   "id": "d32228e7-6665-4576-bd7c-1b98e0ab329e",
   "metadata": {},
   "source": [
    "ANS-A Venn diagram is a visual tool used to illustrate the relationships between different sets of items or groups. It typically consists of overlapping circles, with each circle representing a set. The areas where the circles overlap show the common elements between the sets, while the areas that don't overlap represent elements unique to each set.\n",
    "\n",
    "For example, if one circle represents people who like apples and another represents people who like oranges, the overlapping section would represent people who like both apples and oranges.\n",
    "\n",
    "Venn diagrams are often used in mathematics, logic, statistics, and various fields to visualize relationships, intersections, and differences between sets.\n"
   ]
  },
  {
   "cell_type": "markdown",
   "id": "64b996e5-8af3-4dba-be37-6c0c8103a212",
   "metadata": {},
   "source": [
    "Q7. For the two given sets A = (2,3,4,5,6,7) & B = (0,2,6,8,10). Find:"
   ]
  },
  {
   "cell_type": "code",
   "execution_count": null,
   "id": "6af1b02f-f00d-4342-badf-102355cc6981",
   "metadata": {},
   "outputs": [],
   "source": [
    "(i) A B\n",
    "(ii) A ⋃ B"
   ]
  },
  {
   "cell_type": "code",
   "execution_count": 36,
   "id": "3d857e0b-394d-41fd-967c-e2f968b7d190",
   "metadata": {},
   "outputs": [
    {
     "data": {
      "text/plain": [
       "({2, 6}, {0, 2, 3, 4, 5, 6, 7, 8, 10})"
      ]
     },
     "execution_count": 36,
     "metadata": {},
     "output_type": "execute_result"
    }
   ],
   "source": [
    "# Define the sets A and B\n",
    "A = {2, 3, 4, 5, 6, 7}\n",
    "B = {0, 2, 6, 8, 10}\n",
    "\n",
    "# (i) Intersection of A and B (A ∩ B)\n",
    "intersection = A.intersection(B)\n",
    "\n",
    "# (ii) Union of A and B (A ⋃ B)\n",
    "union = A.union(B)\n",
    "\n",
    "# Display the results\n",
    "intersection, union\n"
   ]
  },
  {
   "cell_type": "markdown",
   "id": "5b47e2fc-2b46-40b8-bad1-5270937b4856",
   "metadata": {},
   "source": [
    "Q8. What do you understand about skewness in data?"
   ]
  },
  {
   "cell_type": "markdown",
   "id": "b80039b4-4598-4f7b-b102-53a13a5290c4",
   "metadata": {},
   "source": [
    "\n",
    "ANS-Skewness is a measure of the asymmetry of the distribution of data around its mean. It helps to describe the shape of the distribution curve. Here’s a breakdown of what skewness indicates:\n",
    "\n",
    "Positive Skewness (Right Skewness):\n",
    "\n",
    "The distribution has a longer or fatter tail on the right side (positive side) of the mean.\n",
    "The mean is typically greater than the median.\n",
    "Example: Income distribution where a few people earn significantly more than the majority.\n",
    "Negative Skewness (Left Skewness):\n",
    "\n",
    "The distribution has a longer or fatter tail on the left side (negative side) of the mean.\n",
    "The mean is typically less than the median.\n",
    "Example: Age at retirement where most people retire around a certain age, but some retire much earlier.\n",
    "Zero Skewness:\n",
    "\n",
    "The distribution is symmetrical around the mean.\n",
    "Mean and median are approximately equal.\n",
    "Example: Normal distribution (bell curve).\n",
    "Skewness helps in understanding the nature of the data distribution, which can be crucial for selecting appropriate statistical techniques and for data preprocessing in machine learning."
   ]
  },
  {
   "cell_type": "markdown",
   "id": "dabbe2e9-f24e-488d-a502-952acefb032d",
   "metadata": {},
   "source": [
    "Q9. If a data is right skewed then what will be the position of median with respect to mean?"
   ]
  },
  {
   "cell_type": "markdown",
   "id": "35b304c6-c00e-40d1-a8d0-9b84082b3b65",
   "metadata": {},
   "source": [
    "ANS-In a right-skewed (or positively skewed) distribution, the tail on the right side of the distribution is longer or fatter, which pulls the mean towards the right. As a result:\n",
    "\n",
    "Median: The median, being the middle value of the data when arranged in order, is less affected by extreme values in the tail.\n",
    "Mean: The mean is influenced by the skewness and is pulled towards the longer tail on the right.\n",
    "In a right-skewed distribution:\n",
    "\n",
    "The median will be less than the mean.\n",
    "The mean will be to the right of the median.\n",
    "So, in summary, for a right-skewed distribution, the median will be positioned to the left of the mean.\n",
    "\n",
    "\n",
    "\n",
    "\n",
    "\n",
    "\n"
   ]
  },
  {
   "cell_type": "markdown",
   "id": "166499fc-8b8d-4c99-9eee-b349abad7945",
   "metadata": {},
   "source": [
    "Q10. Explain the difference between covariance and correlation. How are these measures used in\n",
    "statistical analysis?"
   ]
  },
  {
   "cell_type": "markdown",
   "id": "5713e409-8ce6-4927-b656-44d612a917e2",
   "metadata": {},
   "source": [
    "ANS-Covariance and correlation are both statistical measures of how two variables relate to each other. Covariance measures how much the variables change together, while correlation measures how strongly they are related. Correlation is a special case of covariance, and can be calculated by standardizing the data. \n",
    "Here's a breakdown of the differences: \n",
    "Direction\n",
    "Covariance indicates if variables fluctuate in the same (positive) or opposite (negative) direction. Correlation measures both the direction and strength of the relationship. \n",
    "Range\n",
    "Covariance can range from negative infinity to positive infinity, while correlation ranges from -1 to +1. A correlation of 0 indicates no linear link between the variables. \n",
    "Units\n",
    "Covariance has units, formed by multiplying the units of the two variables. Correlation is dimensionless and unit-free, making it easier to compare across datasets with different units. \n",
    "Application\n",
    "Covariance is useful when variables share the same units and scale, providing insights into the direction of the relationship. Correlation is better when variables are measured on different scales or units, as it allows for easier comparison across datasets. \n",
    "Correlation is calculated by dividing the covariance of two variables by the product of their standard deviations. The final result is the correlation coefficient, represented by corr(x,y). "
   ]
  },
  {
   "cell_type": "code",
   "execution_count": null,
   "id": "a7e17d8f-f0f0-4a8b-95a9-34f5a6e01f7e",
   "metadata": {},
   "outputs": [],
   "source": []
  }
 ],
 "metadata": {
  "kernelspec": {
   "display_name": "Python 3 (ipykernel)",
   "language": "python",
   "name": "python3"
  },
  "language_info": {
   "codemirror_mode": {
    "name": "ipython",
    "version": 3
   },
   "file_extension": ".py",
   "mimetype": "text/x-python",
   "name": "python",
   "nbconvert_exporter": "python",
   "pygments_lexer": "ipython3",
   "version": "3.10.8"
  }
 },
 "nbformat": 4,
 "nbformat_minor": 5
}
