{
 "cells": [
  {
   "cell_type": "markdown",
   "id": "29d4b8ac-0de8-4826-9434-5f48301ebfc2",
   "metadata": {},
   "source": [
    "Qno1-You are writting a code for a company. The requirement of the company is that you create a python function that will check whether the\n",
    "password entered by the is  correct or not. The function should take the password sa input and return the string\"Vaild Password\" if the\n",
    "entered password follows the below-given password guidelines else it should return \"Invaild Password\"."
   ]
  },
  {
   "cell_type": "markdown",
   "id": "cedebd4c-ca29-46f3-b29d-30f9a826b300",
   "metadata": {},
   "source": [
    "Note:1.The password should contain at least two uppercase latters and at least  two lowercase latters.\n",
    "2. The password contain at least a number and three special characters.\n",
    "3. The length of a password should be 10 characters long."
   ]
  },
  {
   "cell_type": "code",
   "execution_count": 3,
   "id": "d764faa4-f3c4-4b4d-9bff-3d088e6f7d8a",
   "metadata": {},
   "outputs": [
    {
     "name": "stdout",
     "output_type": "stream",
     "text": [
      "Invaild password\n"
     ]
    }
   ],
   "source": [
    "import re\n",
    "\n",
    "def check_password(password):\n",
    "    #check length\n",
    "    if len(password)<10:\n",
    "        return \"Invaild password\"\n",
    "    \n",
    "    #check uppercase letters\n",
    "    if sum(1 for char in password if char.isupper())<2:\n",
    "        return \"invaild password\"\n",
    "    \n",
    "    #check lowercase latters\n",
    "    if sum(1 for char in password if char.islower())<2:\n",
    "        return \"Invaild password\"\n",
    "    \n",
    "    #check at least one number\n",
    "    \n",
    "    if not any(char.isdigit() for char in password):\n",
    "        return \"Invaild password\"\n",
    "    \n",
    "    #check at least three special charcters\n",
    "    special_chars = set(\"!@#$%^&*()_-=+<>?,.\")\n",
    "    if sum(1 for char in password if char in  special_chars)<3:\n",
    "         return \"Invaild password\" \n",
    "                        \n",
    "        #if all checks pass, return \"vaild password\"\n",
    "         return \"vaild password\"\n",
    "        \n",
    "        \n",
    "password_input = \"Abs12$YH%ch\"   \n",
    "result = check_password(password_input)\n",
    "print(result)"
   ]
  },
  {
   "cell_type": "markdown",
   "id": "6cea4953-6e58-4974-ad16-c6b5c94959a5",
   "metadata": {},
   "source": [
    "Qno2-Solve the below-given questions using at least one of the following:\n",
    "1. Lambda funtion\n",
    "2. Map function\n",
    "3. Filter function\n",
    "4. List comprehension \n",
    "\n",
    "Check if the string starts with a particular letter.\n",
    "Check if the string is numeric.\n",
    "Sort a list of  tuples having fruit names and their quantity[(\"mango\",99),(\"orange\",80),(\"grapes\",1000)]\n",
    "Find the squres of numbers from 1 to 10.\n",
    "Find the cube root of numbers from 1 to 10.\n",
    "Check if a given numbers from is even.\n",
    "Filter odd numbers from the given list.[1,2,3,4,5,6,7,8,9,10]\n",
    "sort a list of intergers into positive and negative lists.\n",
    "[1,2,3,4,5,6-1,-2,-3,-4,-5,0]"
   ]
  },
  {
   "cell_type": "code",
   "execution_count": 7,
   "id": "f187b3c9-350f-4337-8258-1317dac31641",
   "metadata": {},
   "outputs": [
    {
     "name": "stdout",
     "output_type": "stream",
     "text": [
      "True\n"
     ]
    }
   ],
   "source": [
    "#Using lambda function\n",
    "#check if the string starts with a particular letter\n",
    "\n",
    "string = \"pwskills\"\n",
    "starts_with_p = lambda x : x.startswith('p')\n",
    "\n",
    "result = starts_with_p(string)\n",
    "\n",
    "print(result)\n",
    "\n"
   ]
  },
  {
   "cell_type": "code",
   "execution_count": 8,
   "id": "55637559-38a1-46a9-9727-9afe3f9ffe41",
   "metadata": {},
   "outputs": [
    {
     "name": "stdout",
     "output_type": "stream",
     "text": [
      "[True, True, True, True, True, True, True]\n"
     ]
    }
   ],
   "source": [
    "#Check if the string is numeric.\n",
    "#Using map function. \n",
    "\n",
    "string = \"1234676\"\n",
    "is_numeric = list(map(lambda x:x.isdigit(),string))\n",
    "\n",
    "print(is_numeric)"
   ]
  },
  {
   "cell_type": "code",
   "execution_count": 2,
   "id": "67dc13e7-a289-4a7e-9694-9b9152c4a1e8",
   "metadata": {},
   "outputs": [
    {
     "name": "stdout",
     "output_type": "stream",
     "text": [
      "[('orange', 80), ('mango', 99), ('grapes', 1000)]\n"
     ]
    }
   ],
   "source": [
    "#sort a list of tuples having fruit names and their quantity.\n",
    "fruits_quantities = [(\"mango\",99),(\"orange\",80),(\"grapes\",1000)]\n",
    "sorted_fruits = sorted(fruits_quantities,key=lambda x:x[1])\n",
    "\n",
    "print(sorted_fruits)\n",
    "\n"
   ]
  },
  {
   "cell_type": "code",
   "execution_count": 2,
   "id": "11a66bfc-fde5-46d2-9d8d-5934ae9dac1f",
   "metadata": {},
   "outputs": [
    {
     "data": {
      "text/plain": [
       "[1, 4, 9, 16, 25, 36, 49, 64, 81, 100]"
      ]
     },
     "execution_count": 2,
     "metadata": {},
     "output_type": "execute_result"
    }
   ],
   "source": [
    "#Find the square root of numbers from 1 to 10.\n",
    "#using map Function.\n",
    "\n",
    "number = 1,2,3,4,5,6,7,8,9,10\n",
    "\n",
    "list(map(lambda x : x**2 , number))\n",
    "\n",
    "\n"
   ]
  },
  {
   "cell_type": "code",
   "execution_count": 3,
   "id": "2011443e-8f11-46c5-bd7f-3bd57c9896b7",
   "metadata": {},
   "outputs": [
    {
     "data": {
      "text/plain": [
       "[1, 8, 27, 64, 125, 216, 343, 512, 729, 1000]"
      ]
     },
     "execution_count": 3,
     "metadata": {},
     "output_type": "execute_result"
    }
   ],
   "source": [
    "#Find the  cube root of number from 1 to 10.\n",
    "#Using map  function.\n",
    "\n",
    "number = 1,2,3,4,5,6,7,8,9,10\n",
    "\n",
    "list(map(lambda x: x**3 , number))"
   ]
  },
  {
   "cell_type": "code",
   "execution_count": 4,
   "id": "e3e2869f-3684-4640-ae05-1ef6dd101f69",
   "metadata": {},
   "outputs": [
    {
     "data": {
      "text/plain": [
       "[2, 4, 6, 8, 10]"
      ]
     },
     "execution_count": 4,
     "metadata": {},
     "output_type": "execute_result"
    }
   ],
   "source": [
    "#Check  if a given number is even.\n",
    "#using filter function.\n",
    "\n",
    "number = 1,2,3,4,5,6,7,8,9,10\n",
    "list(filter(lambda x: x % 2 == 0 , number))"
   ]
  },
  {
   "cell_type": "code",
   "execution_count": 5,
   "id": "a835c338-1700-4e03-a666-12791daad220",
   "metadata": {},
   "outputs": [
    {
     "data": {
      "text/plain": [
       "[1, 3, 5, 7, 9]"
      ]
     },
     "execution_count": 5,
     "metadata": {},
     "output_type": "execute_result"
    }
   ],
   "source": [
    "#Filter odd numbers from the given list.\n",
    "#Using filter function.\n",
    "\n",
    "number =[1,2,3,4,5,6,7,8,9,10]\n",
    "\n",
    "list(filter(lambda x: x % 2!=0 , number))"
   ]
  },
  {
   "cell_type": "code",
   "execution_count": 10,
   "id": "8366abda-786f-4597-8eb0-9218ded4b8c1",
   "metadata": {},
   "outputs": [
    {
     "name": "stdout",
     "output_type": "stream",
     "text": [
      "positive numbers: [1, 2, 3, 4, 5, 6]\n",
      "positive numbers: [-1, -2, -3, -4, -5]\n"
     ]
    }
   ],
   "source": [
    "#sort a list of integers into positive and integers lists.\n",
    "#using list comprehension.\n",
    "numbers = [1,2,3,4,5,6,-1,-2,-3,-4,-5,0]\n",
    "    \n",
    "    \n",
    "positive_numbers = [ num for num in  numbers if num > 0]\n",
    "negative_numbers = [ num for num in numbers if num <0]\n",
    "\n",
    "print(\"positive numbers:\",positive_numbers)\n",
    "print(\"positive numbers:\",negative_numbers)"
   ]
  },
  {
   "cell_type": "code",
   "execution_count": null,
   "id": "4654fc36-e1d3-4178-baf7-4869c5b591bd",
   "metadata": {},
   "outputs": [],
   "source": []
  }
 ],
 "metadata": {
  "kernelspec": {
   "display_name": "Python 3 (ipykernel)",
   "language": "python",
   "name": "python3"
  },
  "language_info": {
   "codemirror_mode": {
    "name": "ipython",
    "version": 3
   },
   "file_extension": ".py",
   "mimetype": "text/x-python",
   "name": "python",
   "nbconvert_exporter": "python",
   "pygments_lexer": "ipython3",
   "version": "3.10.8"
  }
 },
 "nbformat": 4,
 "nbformat_minor": 5
}
