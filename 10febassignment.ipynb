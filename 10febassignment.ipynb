{
 "cells": [
  {
   "cell_type": "markdown",
   "id": "9d6aeca3-7dc4-4f04-8620-deb416c94bcb",
   "metadata": {},
   "source": [
    "QNO1-Which function is used to open a file?What are the different modes of  opening a file?Explain each mode of file opening."
   ]
  },
  {
   "cell_type": "markdown",
   "id": "f7c47a1f-0d80-4300-a0fa-5cd3c0553271",
   "metadata": {},
   "source": [
    "ANS-The open() function is used to open a file.Its takes two arguments:the name and the mode in which the file should be opened.Here are some common modes:\n",
    "1. 'r' (read): opens the file for reading.(default)\n",
    "2. 'w' (write): open the file for writing.If the file  already exists, it truncates the file. if it doesn't exist,it create a new file.\n",
    "3. 'a' (append):Open the file for writting,but appends to the end of the  file instead of truncatingit. create a new file if  it doesn't exist.\n",
    "4. 'b' (binary): opens the file in binary mode,which is used for non-text fileslike image or executables. Add 'b' to other modes(e.g., 'rb or 'wb').\n",
    "5. 'x' (exclusive creation): opens the files for exclusive creation. If the file already exists the operation will be fail.\n",
    "6. 't' (text): opens the file in text mode, whuich is the default. Add't' to other modes (e.g.,'rt' ,'wt')."
   ]
  },
  {
   "cell_type": "markdown",
   "id": "00e9d52d-dfdb-4d1f-8f84-8705447dda72",
   "metadata": {},
   "source": [
    "QNO2-Why close() function is used?Why is it important to close a file?"
   ]
  },
  {
   "cell_type": "markdown",
   "id": "904a663b-924d-4bfe-a146-d6232e1c4b18",
   "metadata": {},
   "source": [
    "ANS-The close() function in programming is used to close files or resources that have been opened.It's important to close a file after using it  because it releases the associated system resources and ensures that any changes made to the file are properly saved.Faling to close a file may lead to data corruption or loss,and it can also cause resource leaks,which may impact the overall performance of a impact the overall performance of a program."
   ]
  },
  {
   "cell_type": "markdown",
   "id": "9e38cef1-e7d9-4df0-b480-64e6982bdd40",
   "metadata": {},
   "source": [
    "QNO3-Write a python program to create a text file.Write a 'I want to become a Data scientis't in that file.Then close the file.open this file and read\n",
    "the content of the file."
   ]
  },
  {
   "cell_type": "code",
   "execution_count": 5,
   "id": "082b6a1f-1640-424e-bdb2-cb5854560399",
   "metadata": {},
   "outputs": [
    {
     "name": "stdout",
     "output_type": "stream",
     "text": [
      "I want to became a Data Scientist\n"
     ]
    }
   ],
   "source": [
    "#Here's a simple python program that creates a text file, writes a message, closes the files, then reopens it to read its content:\n",
    "\n",
    "\n",
    "#creating a text files and writting a message\n",
    "with open(\"myfile.txt\", \"w\") as f:\n",
    "          f.write(\"I want to became a Data Scientist\")\n",
    "                \n",
    "                  \n",
    "#close the file\n",
    "          f.close()\n",
    "                  \n",
    "#open the file and read the content\n",
    "with open (\"myfile.txt\", \"r\") as f:\n",
    "                  data = f.read()\n",
    "        \n",
    "#print the content of the file\n",
    "print(data)\n"
   ]
  },
  {
   "cell_type": "markdown",
   "id": "39908e60-c91f-4bdf-9608-9281f7dfe444",
   "metadata": {},
   "source": [
    "This program uses the with statement to automatically close the file after the indented block is executed.The open() function is used with the \"w\" mode to write to the file and \"r\" mode to read from it"
   ]
  },
  {
   "cell_type": "markdown",
   "id": "dc9b891e-23f5-4557-97b3-bfb7ba8538d1",
   "metadata": {},
   "source": [
    "QNO4-Explain the following with python code: read() ,readline() and readlines()."
   ]
  },
  {
   "cell_type": "markdown",
   "id": "1239ecde-271e-4def-b89e-4088c0c02183",
   "metadata": {},
   "source": [
    "ANS-In pyhon read(),readline(),and readlines() are methods used for reading data  from a file.\n",
    "\n",
    "1.read():This method reads the  entire content of the file as a single string.\n"
   ]
  },
  {
   "cell_type": "code",
   "execution_count": 6,
   "id": "d77a1ce7-e470-425b-8441-3e1978fe4361",
   "metadata": {},
   "outputs": [],
   "source": [
    "with open(\"myfile.txt\",\"r\")as file:\n",
    "    data = file.read()  "
   ]
  },
  {
   "cell_type": "markdown",
   "id": "af5f2b59-3595-4938-97b3-6d35f7b5cd3e",
   "metadata": {},
   "source": [
    "2.readline():The readline() method reads a single line from a file and returns it as a string."
   ]
  },
  {
   "cell_type": "code",
   "execution_count": 9,
   "id": "e77ca4a9-1b4c-429c-b18c-45caed0e31df",
   "metadata": {},
   "outputs": [],
   "source": [
    "with open (\"myfile.txt\", \"r\")as file:\n",
    "    line = file.readline()"
   ]
  },
  {
   "cell_type": "markdown",
   "id": "66195572-697f-4b6d-a10e-555f5a7fab66",
   "metadata": {},
   "source": [
    "3.readlines():The readlines() method reads all the lines from a file and returns them as a list of strings."
   ]
  },
  {
   "cell_type": "code",
   "execution_count": 10,
   "id": "688b1004-0133-4ec3-b326-8179934cd3c0",
   "metadata": {},
   "outputs": [],
   "source": [
    "with open(\"myfile.txt\", \"r\")as file:\n",
    "    line = file.readlines()"
   ]
  },
  {
   "cell_type": "markdown",
   "id": "f963676c-3a63-4fc9-a462-dc7ded97ba47",
   "metadata": {},
   "source": [
    "QNO5-Explain why with statement is used with open().What is the advantage of using with statement and open() together?"
   ]
  },
  {
   "cell_type": "markdown",
   "id": "7384ff81-41e2-4a03-8770-265d96aa4d3e",
   "metadata": {},
   "source": [
    "ANS-The with statement in python is used wuth the open() function to ensure proper handling. when you use with open(),it automatically takes care of opening and closing the file,ensuring that resources are managed efficienrly.\n",
    "The advantage of using the with statement isb that it provides a context manager,which automatically handles the setup and teardown operations.In the case of file handling with open(),it ensures that the file is properly,even if an error occurs during the execution of the code within the with block,This helps in preventing resource leaks and makes the code cleaner and more readable."
   ]
  },
  {
   "cell_type": "markdown",
   "id": "468c3e48-d3f6-4a0a-b817-d6424485a83c",
   "metadata": {},
   "source": [
    "QNO6-Explain with write() and writelines() functions.Give a suitable example."
   ]
  },
  {
   "cell_type": "markdown",
   "id": "63126d69-31de-481b-8382-e65da60fea4a",
   "metadata": {},
   "source": [
    "ANS-The write() and writelines() functions are both used to write data to a file. However, there are some key differences between the two functions.\n",
    "The write() function takes a single string as its argument and writes it to the file. The writelines() function takes an iterable object (such as a list or a tuple) of strings as its argument and writes each string in the iterable to the file.\n",
    "\n",
    "For example, the following code will write the string \"Data Science Course\" to a file named myfile.txt:"
   ]
  },
  {
   "cell_type": "code",
   "execution_count": 7,
   "id": "3d564cf8-e0a9-4898-8d2e-61bd63019c04",
   "metadata": {},
   "outputs": [],
   "source": [
    "with open(\"myfile.txt\", \"w\")as file:\n",
    "    file.write(\"Dtata Science Course\")\n",
    "    "
   ]
  },
  {
   "cell_type": "code",
   "execution_count": null,
   "id": "69629509-0ca0-4c37-80f9-736ea01f3f58",
   "metadata": {},
   "outputs": [],
   "source": []
  }
 ],
 "metadata": {
  "kernelspec": {
   "display_name": "Python 3 (ipykernel)",
   "language": "python",
   "name": "python3"
  },
  "language_info": {
   "codemirror_mode": {
    "name": "ipython",
    "version": 3
   },
   "file_extension": ".py",
   "mimetype": "text/x-python",
   "name": "python",
   "nbconvert_exporter": "python",
   "pygments_lexer": "ipython3",
   "version": "3.10.8"
  }
 },
 "nbformat": 4,
 "nbformat_minor": 5
}
