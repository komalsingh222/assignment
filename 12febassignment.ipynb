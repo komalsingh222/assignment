{
 "cells": [
  {
   "cell_type": "markdown",
   "id": "3f0297e1-9066-49de-992d-a10e64fbf54a",
   "metadata": {},
   "source": [
    "QNO1-What is an Exception  in python? Write  adifference between Exceptions and syntax error?\n"
   ]
  },
  {
   "cell_type": "markdown",
   "id": "929fe91d-b46c-4673-9f09-bc22a7a9fffc",
   "metadata": {},
   "source": [
    "ANS- An Exception is an error that  happens during the excution of program.Whenever there is an error python generates an exception  that could be handle.It basically  prevents the program from getting crashed.\n",
    "                                Syntax errors are typically detected before the code is executed, and they prevent the program from running. On the other hand, an exception is an error that occurs during the execution of a program. It is typically caused by unexpected conditions or events that disrupt the normal flow of the program."
   ]
  },
  {
   "cell_type": "markdown",
   "id": "df88d4d4-d366-43c4-b142-eff7a0ebd935",
   "metadata": {},
   "source": [
    "QNO2-What happens when an exception is not handled? Explain with an example."
   ]
  },
  {
   "cell_type": "markdown",
   "id": "6ab64888-ed1f-4009-93c2-4ca1e3656e97",
   "metadata": {},
   "source": [
    "ANS-When an exception is not handled,  the program crashes.This means  that the program stop running and any code comes after the exception is not exceuted"
   ]
  },
  {
   "cell_type": "code",
   "execution_count": 1,
   "id": "49e372dd-141c-40ba-8bd2-7fbb66eb8145",
   "metadata": {},
   "outputs": [
    {
     "ename": "ZeroDivisionError",
     "evalue": "division by zero",
     "output_type": "error",
     "traceback": [
      "\u001b[0;31m---------------------------------------------------------------------------\u001b[0m",
      "\u001b[0;31mZeroDivisionError\u001b[0m                         Traceback (most recent call last)",
      "Cell \u001b[0;32mIn[1], line 7\u001b[0m\n\u001b[1;32m      4\u001b[0m x \u001b[38;5;241m=\u001b[39m \u001b[38;5;241m10\u001b[39m\n\u001b[1;32m      5\u001b[0m y \u001b[38;5;241m=\u001b[39m \u001b[38;5;241m0\u001b[39m\n\u001b[0;32m----> 7\u001b[0m result \u001b[38;5;241m=\u001b[39m \u001b[43mdivide\u001b[49m\u001b[43m(\u001b[49m\u001b[43mx\u001b[49m\u001b[43m,\u001b[49m\u001b[43m \u001b[49m\u001b[43my\u001b[49m\u001b[43m)\u001b[49m\n\u001b[1;32m      8\u001b[0m \u001b[38;5;28mprint\u001b[39m(result)\n",
      "Cell \u001b[0;32mIn[1], line 2\u001b[0m, in \u001b[0;36mdivide\u001b[0;34m(a, b)\u001b[0m\n\u001b[1;32m      1\u001b[0m \u001b[38;5;28;01mdef\u001b[39;00m \u001b[38;5;21mdivide\u001b[39m(a, b):\n\u001b[0;32m----> 2\u001b[0m   \u001b[38;5;28;01mreturn\u001b[39;00m \u001b[43ma\u001b[49m\u001b[43m \u001b[49m\u001b[38;5;241;43m/\u001b[39;49m\u001b[43m \u001b[49m\u001b[43mb\u001b[49m\n",
      "\u001b[0;31mZeroDivisionError\u001b[0m: division by zero"
     ]
    }
   ],
   "source": [
    "def divide(a, b):\n",
    "  return a / b\n",
    "\n",
    "x = 10\n",
    "y = 0\n",
    "\n",
    "result = divide(x, y)\n",
    "print(result)"
   ]
  },
  {
   "cell_type": "markdown",
   "id": "0e5ea9a9-8605-4b3f-9f65-32855a88c828",
   "metadata": {},
   "source": [
    "QNO3-Which python statement are used to catch and handle expections?Explain with an example."
   ]
  },
  {
   "cell_type": "markdown",
   "id": "92af840a-afca-42d9-ab1d-2b25551b7bda",
   "metadata": {},
   "source": [
    "ANS-In python, try , except ,else and finally statement is used to catch and handle exceptions. "
   ]
  },
  {
   "cell_type": "code",
   "execution_count": 2,
   "id": "b012a8b8-dec1-44ac-9d0e-e88f289bf4d1",
   "metadata": {},
   "outputs": [
    {
     "name": "stdout",
     "output_type": "stream",
     "text": [
      "This is my except block [Errno 2] No such file or directory: 'test12.txt'\n",
      "Finaly excute in any situation\n"
     ]
    }
   ],
   "source": [
    "try:\n",
    "    f = open(\"test12.txt\" , 'r')\n",
    "    f.write(\"Write into my files\")\n",
    "except Exception as e:\n",
    "    print(\"This is my except block\" , e )\n",
    "else:\n",
    "    f.close()\n",
    "    print(\"This will be executed once your  try will exceute without error\")\n",
    "finally:\n",
    "    print(\"Finaly excute in any situation\")"
   ]
  },
  {
   "cell_type": "markdown",
   "id": "2116f28f-9846-4eda-aab0-fa54d285c357",
   "metadata": {},
   "source": [
    "QNO4-Explain with an example:\n",
    "    \n",
    "    a.try and else\n",
    "    b.finally \n",
    "    c.raise"
   ]
  },
  {
   "cell_type": "code",
   "execution_count": 5,
   "id": "e71a9c64-1c41-43fe-8bf4-c7203625bf83",
   "metadata": {},
   "outputs": [
    {
     "name": "stdout",
     "output_type": "stream",
     "text": [
      "This is my file [Errno 2] No such file or directory: 'test.txt'\n"
     ]
    }
   ],
   "source": [
    "#Ans\n",
    "\n",
    "try:\n",
    "    f = open(\"test.txt\" ,'r')\n",
    "except Exception as e:\n",
    "    print(\"This is my file\" , e)"
   ]
  },
  {
   "cell_type": "code",
   "execution_count": 35,
   "id": "4ee6ff2c-cb2b-4c91-96a4-8e9904c9ba74",
   "metadata": {},
   "outputs": [
    {
     "name": "stdout",
     "output_type": "stream",
     "text": [
      "This is an example of else\n"
     ]
    }
   ],
   "source": [
    "try:\n",
    "    f = open(\"test12feb.txt\" , 'w')\n",
    "    f.write(\"This is myexception block\")\n",
    "except Exception as e:\n",
    "    print(\"This is an example\" , e)\n",
    "else:\n",
    "    f.close()\n",
    "    print(\"This is an example of else\")\n"
   ]
  },
  {
   "cell_type": "code",
   "execution_count": 41,
   "id": "914fd6d0-ec9a-4e7d-896d-b3c8b49f58cc",
   "metadata": {},
   "outputs": [],
   "source": [
    "class validateage(Exception):\n",
    "    \n",
    "    def __init__(self,msg):\n",
    "        self.msg = msg"
   ]
  },
  {
   "cell_type": "code",
   "execution_count": 42,
   "id": "e938ec80-e9d0-49b3-8a02-6b66e3d85caa",
   "metadata": {},
   "outputs": [],
   "source": [
    "def validateage1(number):\n",
    "    if number==10:\n",
    "        raise validateage(\"This is an accurate number\")\n",
    "    elif number > 8:\n",
    "        raise vaildateage(\"This number is less\")\n",
    "    else: \n",
    "        print(\"This number is less than any number\")\n",
    "        \n",
    "    "
   ]
  },
  {
   "cell_type": "code",
   "execution_count": 44,
   "id": "d4a8aee0-bd82-4f0d-8406-2679c842697c",
   "metadata": {},
   "outputs": [
    {
     "name": "stdin",
     "output_type": "stream",
     "text": [
      "Enter a number 10\n"
     ]
    },
    {
     "name": "stdout",
     "output_type": "stream",
     "text": [
      "This is an accurate number\n"
     ]
    }
   ],
   "source": [
    "try:\n",
    "    number = int(input(\"Enter a number\"))\n",
    "    validateage1(number)\n",
    "except validateage as e:\n",
    "    print(e)\n",
    "                 \n",
    "    "
   ]
  },
  {
   "cell_type": "markdown",
   "id": "1d8e9954-fc1c-4b85-ac1b-9f20bec64477",
   "metadata": {},
   "source": [
    "QNO5-What are custom exceptions in python?Why do we need custom exceptions?Explain with an example."
   ]
  },
  {
   "cell_type": "markdown",
   "id": "6e1cc918-f38b-48c3-b3c0-9438cd1338dc",
   "metadata": {},
   "source": [
    "ANS-Custom exceptions are user-defined exceptions that can be raised and handled in your code. They are helpful in many situations, such as when you want to define your own error conditions or handle errors in a more specific and meaningful way.\n",
    "                                   Custom exceptions are a way to define your own error conditions and handle them in a more specific and meaningful way. They are also useful in object-oriented programming, where you may want to define exceptions that are specific to your classes."
   ]
  },
  {
   "cell_type": "code",
   "execution_count": 45,
   "id": "608239bf-544a-416f-b75b-32b8a5057660",
   "metadata": {},
   "outputs": [],
   "source": [
    "class MyError(Exception) :\n",
    "\n",
    "    def __init__(self, message):\n",
    "        self.message = message\n"
   ]
  },
  {
   "cell_type": "code",
   "execution_count": 46,
   "id": "f60f37fa-241e-4787-b4d6-8bf60efe68f8",
   "metadata": {},
   "outputs": [
    {
     "name": "stdout",
     "output_type": "stream",
     "text": [
      "Something went wrong\n"
     ]
    }
   ],
   "source": [
    "try:\n",
    "    raise MyError(\"Something went wrong\")\n",
    "except MyError as e:\n",
    "    print(e.message)"
   ]
  },
  {
   "cell_type": "markdown",
   "id": "802aa338-afef-4528-b7bb-65e554902d48",
   "metadata": {},
   "source": [
    "QNO2-Create a  custom exception class.Use this class handle an exception."
   ]
  },
  {
   "cell_type": "code",
   "execution_count": 47,
   "id": "2af5c6ac-bf9f-40f2-8324-784651f44ed5",
   "metadata": {},
   "outputs": [],
   "source": [
    "class validateage(Exception):\n",
    "    \n",
    "    def __ini__(self,msg):\n",
    "        self.msg = msg"
   ]
  },
  {
   "cell_type": "code",
   "execution_count": 48,
   "id": "4670416c-1f9f-4046-b73f-271612ea9f87",
   "metadata": {},
   "outputs": [],
   "source": [
    "def validaetage(age):\n",
    "    if age < 0:\n",
    "        raise validateage(\"Entered age is negative\")\n",
    "    elif age > 200:\n",
    "        raise validateage(\"Entered age is very very high\")\n",
    "    else:\n",
    "        print(\"age is valid\")"
   ]
  },
  {
   "cell_type": "code",
   "execution_count": 49,
   "id": "9a70cf7f-61ff-4301-bdd8-64c074b24a47",
   "metadata": {},
   "outputs": [
    {
     "name": "stdin",
     "output_type": "stream",
     "text": [
      "Enter your age 78698\n"
     ]
    },
    {
     "name": "stdout",
     "output_type": "stream",
     "text": [
      "Entered age is very very high\n"
     ]
    }
   ],
   "source": [
    "try:\n",
    "    \n",
    "    age = int(input(\"Enter your age\"))\n",
    "    validaetage(age)\n",
    "except validateage as e:\n",
    "        print(e)\n",
    "              "
   ]
  },
  {
   "cell_type": "code",
   "execution_count": null,
   "id": "3fffda7d-8f4d-4e88-82da-e0545941b233",
   "metadata": {},
   "outputs": [],
   "source": []
  }
 ],
 "metadata": {
  "kernelspec": {
   "display_name": "Python 3 (ipykernel)",
   "language": "python",
   "name": "python3"
  },
  "language_info": {
   "codemirror_mode": {
    "name": "ipython",
    "version": 3
   },
   "file_extension": ".py",
   "mimetype": "text/x-python",
   "name": "python",
   "nbconvert_exporter": "python",
   "pygments_lexer": "ipython3",
   "version": "3.10.8"
  }
 },
 "nbformat": 4,
 "nbformat_minor": 5
}
