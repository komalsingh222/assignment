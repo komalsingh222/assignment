{
 "cells": [
  {
   "cell_type": "markdown",
   "id": "4c4a035e-7dec-47d6-8e3b-66183333fa39",
   "metadata": {},
   "source": [
    "#que1-explain with an example each went to use a for loop and a while loop?"
   ]
  },
  {
   "cell_type": "code",
   "execution_count": 7,
   "id": "68aa6798-1d74-41e4-94c8-00e69bdbc33a",
   "metadata": {},
   "outputs": [
    {
     "name": "stdin",
     "output_type": "stream",
     "text": [
      "enter your limts 50\n"
     ]
    },
    {
     "data": {
      "text/plain": [
       "1275"
      ]
     },
     "execution_count": 7,
     "metadata": {},
     "output_type": "execute_result"
    }
   ],
   "source": [
    "n = int(input('enter your limts'))\n",
    "starting_point = 0\n",
    "counter = 1\n",
    "        \n",
    "while counter <= n:\n",
    "        starting_point = starting_point + counter\n",
    "        counter = counter + 1\n",
    "starting_point"
   ]
  },
  {
   "cell_type": "code",
   "execution_count": 4,
   "id": "a74af76f-7db0-48de-95e1-4d3d70f3d3c5",
   "metadata": {},
   "outputs": [],
   "source": [
    "l = [2,4,6,7,89,4]"
   ]
  },
  {
   "cell_type": "code",
   "execution_count": 5,
   "id": "72f48560-c66c-464e-9771-09f9157b52b9",
   "metadata": {},
   "outputs": [
    {
     "data": {
      "text/plain": [
       "112"
      ]
     },
     "execution_count": 5,
     "metadata": {},
     "output_type": "execute_result"
    }
   ],
   "source": [
    "result = 0\n",
    "\n",
    "for i in l:\n",
    "    result = result +i\n",
    "result"
   ]
  },
  {
   "cell_type": "markdown",
   "id": "1a3817c4-438e-4c8b-9e25-239c3f32d480",
   "metadata": {},
   "source": [
    "#Que no2 write a pythone programe to print the sum and product  of the first 10 natural numbers using for and while loop"
   ]
  },
  {
   "cell_type": "code",
   "execution_count": 16,
   "id": "12c62232-7ca5-4c13-aa00-e19b0c0e457d",
   "metadata": {},
   "outputs": [],
   "source": [
    "l = [1,2,3,4,5,6,7,8,9,10]"
   ]
  },
  {
   "cell_type": "code",
   "execution_count": 23,
   "id": "3b69f100-644c-45ac-b9ad-9cf338bb7711",
   "metadata": {},
   "outputs": [
    {
     "name": "stdout",
     "output_type": "stream",
     "text": [
      "1\n",
      "3\n",
      "6\n",
      "10\n",
      "15\n",
      "21\n",
      "28\n",
      "36\n",
      "45\n",
      "55\n"
     ]
    }
   ],
   "source": [
    "resul = 0\n",
    "\n",
    "for i in l:\n",
    "    sum = sum +i\n",
    "    print(sum)"
   ]
  },
  {
   "cell_type": "code",
   "execution_count": 24,
   "id": "5d5e9ff9-4086-4fe4-ba05-f60e8d40dba1",
   "metadata": {},
   "outputs": [
    {
     "name": "stdout",
     "output_type": "stream",
     "text": [
      "1\n",
      "2\n",
      "6\n",
      "24\n",
      "120\n",
      "720\n",
      "5040\n",
      "40320\n",
      "362880\n",
      "3628800\n"
     ]
    }
   ],
   "source": [
    "result = 1\n",
    "\n",
    "for i in l:\n",
    "    result= result*i\n",
    "    print(result)\n"
   ]
  },
  {
   "cell_type": "code",
   "execution_count": 28,
   "id": "70282107-c294-4fa5-98d5-1a2afe67a7a9",
   "metadata": {},
   "outputs": [
    {
     "name": "stdout",
     "output_type": "stream",
     "text": [
      "1\n",
      "3\n",
      "6\n",
      "10\n",
      "15\n",
      "21\n",
      "28\n",
      "36\n",
      "45\n",
      "55\n"
     ]
    }
   ],
   "source": [
    "sum = 0\n",
    "i = 1\n",
    "\n",
    "while i<=10:\n",
    "    sum+=i\n",
    "    i = i +1\n",
    "    print(sum)"
   ]
  },
  {
   "cell_type": "markdown",
   "id": "e5abec1c-cfba-4aea-92ee-a747193d232f",
   "metadata": {},
   "source": [
    "#Qno3 create a python program  to compute the electricity bill for a household.\n",
    "the per-unit charge in rupees are follows:for the first 100 units the user will be charged Rs.4.5per unit,for \n",
    "the next 100 unit,the user will be charged Rs.6 per unit,aqnd for the next 100 units, the user will be charged \n",
    "Rs.10 per unit,after 300 units and above the user will be charged Rs.20 per unit.\n",
    "you are required to take  the units of electricity consumed in a month from the user as input.\n",
    "\n",
    "your program must pass this test case: when the unity of electricity consumed by the user in a month is 310, \n",
    "the total electricity bill should be 2250."
   ]
  },
  {
   "cell_type": "code",
   "execution_count": 3,
   "id": "c6736399-82b2-4e06-9779-9094d8d2df89",
   "metadata": {},
   "outputs": [
    {
     "name": "stdin",
     "output_type": "stream",
     "text": [
      "enter electricity units: 310\n"
     ]
    },
    {
     "name": "stdout",
     "output_type": "stream",
     "text": [
      " your light bill is: 2250\n"
     ]
    }
   ],
   "source": [
    "units = int(input(\"enter electricity units:\"))\n",
    "rs = 0\n",
    "if units <= 100:\n",
    "    rs =( 100 *4.5)\n",
    "elif 100 < units <200:\n",
    "    rs =( units- 100)*6\n",
    "elif  200 < units < 300:\n",
    "    rs=(units - 200)*10\n",
    "else : \n",
    "    rs=2050+(units - 300)* 20\n",
    "    print(\" your light bill is:\",rs)\n",
    "    "
   ]
  },
  {
   "cell_type": "markdown",
   "id": "ccd39c65-287a-4fb9-879e-a72a14f772e2",
   "metadata": {},
   "source": [
    "#Qno4 create a list of number from 1 to 100.use for loop and while loop to calculate the cube of each number and if \n",
    "the cube of that number divisible by 4 and 5 then append that number in a list and print that list."
   ]
  },
  {
   "cell_type": "code",
   "execution_count": 2,
   "id": "5bd512d8-0d8a-40c4-9489-0f5b7d79c484",
   "metadata": {},
   "outputs": [
    {
     "name": "stdout",
     "output_type": "stream",
     "text": [
      "[0, 64, 125, 512, 1000, 1728, 3375, 4096, 8000, 13824, 15625, 21952, 27000, 32768, 42875, 46656, 64000, 85184, 91125, 110592, 125000, 140608, 166375, 175616, 216000, 262144, 274625, 314432, 343000, 373248, 421875, 438976, 512000, 592704, 614125, 681472, 729000, 778688, 857375, 884736, 1000000]\n"
     ]
    }
   ],
   "source": [
    "l = []\n",
    "for i in range(0,101):\n",
    "    if i%4==0 or i%5==0:\n",
    "        l.append(i**3)\n",
    "print(l)\n"
   ]
  },
  {
   "cell_type": "code",
   "execution_count": 1,
   "id": "7c723828-b7ce-4145-99ef-6c4f4e552fbf",
   "metadata": {},
   "outputs": [
    {
     "name": "stdout",
     "output_type": "stream",
     "text": [
      "[64, 125, 512, 1000, 1728, 3375, 4096, 8000, 13824, 15625, 21952, 27000, 32768, 42875, 46656, 64000, 85184, 91125, 110592, 125000, 140608, 166375, 175616, 216000, 262144, 274625, 314432, 343000, 373248, 421875, 438976, 512000, 592704, 614125, 681472, 729000, 778688, 857375, 884736, 1000000]\n"
     ]
    }
   ],
   "source": [
    "l1 = []\n",
    "n = 100\n",
    "i = 1\n",
    "while i <=n:\n",
    "    if (i%4==0 or i%5==0):\n",
    "        l1.append(i*i*i)\n",
    "    i= i +1\n",
    "print(l1)"
   ]
  },
  {
   "cell_type": "markdown",
   "id": "aba11c5b-7bb6-4a31-9f0d-5ee7d72bd762",
   "metadata": {},
   "source": [
    "#Qno5- write a program to filter count vowels in the below given string.\n",
    "string = \"i want to become data scientist\""
   ]
  },
  {
   "cell_type": "code",
   "execution_count": 3,
   "id": "973f0e88-a8dd-420d-891c-ff5da4951d93",
   "metadata": {},
   "outputs": [
    {
     "name": "stdin",
     "output_type": "stream",
     "text": [
      "enter the sentance: i want to become data scientist\n"
     ]
    },
    {
     "name": "stdout",
     "output_type": "stream",
     "text": [
      "11\n"
     ]
    }
   ],
   "source": [
    "s = input(\"enter the sentance:\")\n",
    "count = 0 \n",
    "l= [ \"a\",\"e\",\"i\",\"o\",\"u\"]\n",
    "for i in s :\n",
    "    if i in l:\n",
    "        count = count+1\n",
    "print(count)"
   ]
  },
  {
   "cell_type": "code",
   "execution_count": null,
   "id": "5aff4fb6-388e-4e29-b5cf-f001dbdeb591",
   "metadata": {},
   "outputs": [],
   "source": []
  }
 ],
 "metadata": {
  "kernelspec": {
   "display_name": "Python 3 (ipykernel)",
   "language": "python",
   "name": "python3"
  },
  "language_info": {
   "codemirror_mode": {
    "name": "ipython",
    "version": 3
   },
   "file_extension": ".py",
   "mimetype": "text/x-python",
   "name": "python",
   "nbconvert_exporter": "python",
   "pygments_lexer": "ipython3",
   "version": "3.10.8"
  }
 },
 "nbformat": 4,
 "nbformat_minor": 5
}
